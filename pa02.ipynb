{
 "cells": [
  {
   "cell_type": "code",
   "execution_count": 51,
   "metadata": {
    "vscode": {
     "languageId": "r"
    }
   },
   "outputs": [
    {
     "data": {
      "text/html": [
       "<table class=\"dataframe\">\n",
       "<caption>A data.frame: 8 × 9</caption>\n",
       "<thead>\n",
       "\t<tr><th scope=col>x</th><th scope=col>name</th><th scope=col>gender</th><th scope=col>age</th><th scope=col>exams</th><th scope=col>Q1</th><th scope=col>Q2</th><th scope=col>Q3</th><th scope=col>salary</th></tr>\n",
       "\t<tr><th scope=col>&lt;int&gt;</th><th scope=col>&lt;chr&gt;</th><th scope=col>&lt;chr&gt;</th><th scope=col>&lt;dbl&gt;</th><th scope=col>&lt;dbl&gt;</th><th scope=col>&lt;dbl&gt;</th><th scope=col>&lt;dbl&gt;</th><th scope=col>&lt;dbl&gt;</th><th scope=col>&lt;dbl&gt;</th></tr>\n",
       "</thead>\n",
       "<tbody>\n",
       "\t<tr><td>1</td><td>Embryo Luo     </td><td>M</td><td>-1</td><td>10</td><td>10</td><td> 9</td><td> 9</td><td>3e+05</td></tr>\n",
       "\t<tr><td>2</td><td>               </td><td>F</td><td>25</td><td> 3</td><td>NA</td><td> 9</td><td> 7</td><td>   NA</td></tr>\n",
       "\t<tr><td>3</td><td>Peter Smith    </td><td>M</td><td>22</td><td> 0</td><td> 4</td><td> 5</td><td> 5</td><td>8e+04</td></tr>\n",
       "\t<tr><td>4</td><td>NA             </td><td>F</td><td>50</td><td> 4</td><td> 7</td><td> 7</td><td> 8</td><td>   NA</td></tr>\n",
       "\t<tr><td>5</td><td>Angela Peterson</td><td>F</td><td>30</td><td> 6</td><td> 8</td><td> 8</td><td>10</td><td>   NA</td></tr>\n",
       "\t<tr><td>6</td><td>Emily Johnston </td><td>F</td><td>42</td><td> 7</td><td> 9</td><td>10</td><td>10</td><td>   NA</td></tr>\n",
       "\t<tr><td>7</td><td>Barbara Scott  </td><td>?</td><td>29</td><td> 5</td><td> 8</td><td> 9</td><td> 7</td><td>   NA</td></tr>\n",
       "\t<tr><td>8</td><td>Benjamin Eng   </td><td>M</td><td>36</td><td> 9</td><td> 7</td><td> 8</td><td> 8</td><td>   NA</td></tr>\n",
       "</tbody>\n",
       "</table>\n"
      ],
      "text/latex": [
       "A data.frame: 8 × 9\n",
       "\\begin{tabular}{lllllllll}\n",
       " x & name & gender & age & exams & Q1 & Q2 & Q3 & salary\\\\\n",
       " <int> & <chr> & <chr> & <dbl> & <dbl> & <dbl> & <dbl> & <dbl> & <dbl>\\\\\n",
       "\\hline\n",
       "\t 1 & Embryo Luo      & M & -1 & 10 & 10 &  9 &  9 & 3e+05\\\\\n",
       "\t 2 &                 & F & 25 &  3 & NA &  9 &  7 &    NA\\\\\n",
       "\t 3 & Peter Smith     & M & 22 &  0 &  4 &  5 &  5 & 8e+04\\\\\n",
       "\t 4 & NA              & F & 50 &  4 &  7 &  7 &  8 &    NA\\\\\n",
       "\t 5 & Angela Peterson & F & 30 &  6 &  8 &  8 & 10 &    NA\\\\\n",
       "\t 6 & Emily Johnston  & F & 42 &  7 &  9 & 10 & 10 &    NA\\\\\n",
       "\t 7 & Barbara Scott   & ? & 29 &  5 &  8 &  9 &  7 &    NA\\\\\n",
       "\t 8 & Benjamin Eng    & M & 36 &  9 &  7 &  8 &  8 &    NA\\\\\n",
       "\\end{tabular}\n"
      ],
      "text/markdown": [
       "\n",
       "A data.frame: 8 × 9\n",
       "\n",
       "| x &lt;int&gt; | name &lt;chr&gt; | gender &lt;chr&gt; | age &lt;dbl&gt; | exams &lt;dbl&gt; | Q1 &lt;dbl&gt; | Q2 &lt;dbl&gt; | Q3 &lt;dbl&gt; | salary &lt;dbl&gt; |\n",
       "|---|---|---|---|---|---|---|---|---|\n",
       "| 1 | Embryo Luo      | M | -1 | 10 | 10 |  9 |  9 | 3e+05 |\n",
       "| 2 | <!----> | F | 25 |  3 | NA |  9 |  7 |    NA |\n",
       "| 3 | Peter Smith     | M | 22 |  0 |  4 |  5 |  5 | 8e+04 |\n",
       "| 4 | NA              | F | 50 |  4 |  7 |  7 |  8 |    NA |\n",
       "| 5 | Angela Peterson | F | 30 |  6 |  8 |  8 | 10 |    NA |\n",
       "| 6 | Emily Johnston  | F | 42 |  7 |  9 | 10 | 10 |    NA |\n",
       "| 7 | Barbara Scott   | ? | 29 |  5 |  8 |  9 |  7 |    NA |\n",
       "| 8 | Benjamin Eng    | M | 36 |  9 |  7 |  8 |  8 |    NA |\n",
       "\n"
      ],
      "text/plain": [
       "  x name            gender age exams Q1 Q2 Q3 salary\n",
       "1 1 Embryo Luo      M      -1  10    10  9  9 3e+05 \n",
       "2 2                 F      25   3    NA  9  7    NA \n",
       "3 3 Peter Smith     M      22   0     4  5  5 8e+04 \n",
       "4 4 NA              F      50   4     7  7  8    NA \n",
       "5 5 Angela Peterson F      30   6     8  8 10    NA \n",
       "6 6 Emily Johnston  F      42   7     9 10 10    NA \n",
       "7 7 Barbara Scott   ?      29   5     8  9  7    NA \n",
       "8 8 Benjamin Eng    M      36   9     7  8  8    NA "
      ]
     },
     "metadata": {},
     "output_type": "display_data"
    }
   ],
   "source": [
    "# Basic dataset exercise\n",
    "x <- 1:8\n",
    "name <- c(\"Embryo Luo\", \"\", \"Peter Smith\", NA, \"Angela Peterson\", \"Emily Johnston\", \"Barbara Scott\", \"Benjamin Eng\")\n",
    "gender <- c(\"M\", \"F\", \"M\", \"F\", \"F\", \"F\", \"?\", \"M\")\n",
    "age <- c(-1, 25, 22, 50, 30, 42, 29, 36)\n",
    "exams <- c(10, 3, 0, 4, 6, 7, 5, 9)\n",
    "Q1 <- c(10, NA, 4, 7, 8, 9, 8, 7)\n",
    "Q2 <- c(9, 9, 5, 7, 8, 10, 9, 8)\n",
    "Q3 <- c(9, 7, 5, 8, 10, 10, 7, 8)\n",
    "salary <- c(300000, NA, 80000, NA, NA, NA, NA, NA)\n",
    "\n",
    "actuary <- data.frame(x, name, gender, age, exams, Q1, Q2, Q3, salary)\n",
    "actuary\n"
   ]
  },
  {
   "cell_type": "code",
   "execution_count": 52,
   "metadata": {
    "vscode": {
     "languageId": "r"
    }
   },
   "outputs": [
    {
     "data": {
      "text/html": [
       "<table class=\"dataframe\">\n",
       "<caption>A data.frame: 8 × 8</caption>\n",
       "<thead>\n",
       "\t<tr><th scope=col>name</th><th scope=col>gender</th><th scope=col>age</th><th scope=col>exams</th><th scope=col>Q1</th><th scope=col>Q2</th><th scope=col>Q3</th><th scope=col>salary</th></tr>\n",
       "\t<tr><th scope=col>&lt;chr&gt;</th><th scope=col>&lt;chr&gt;</th><th scope=col>&lt;dbl&gt;</th><th scope=col>&lt;dbl&gt;</th><th scope=col>&lt;dbl&gt;</th><th scope=col>&lt;dbl&gt;</th><th scope=col>&lt;dbl&gt;</th><th scope=col>&lt;dbl&gt;</th></tr>\n",
       "</thead>\n",
       "<tbody>\n",
       "\t<tr><td>Embryo Luo     </td><td>M</td><td>-1</td><td>10</td><td>10</td><td> 9</td><td> 9</td><td>3e+05</td></tr>\n",
       "\t<tr><td>               </td><td>F</td><td>25</td><td> 3</td><td>NA</td><td> 9</td><td> 7</td><td>   NA</td></tr>\n",
       "\t<tr><td>Peter Smith    </td><td>M</td><td>22</td><td> 0</td><td> 4</td><td> 5</td><td> 5</td><td>8e+04</td></tr>\n",
       "\t<tr><td>NA             </td><td>F</td><td>50</td><td> 4</td><td> 7</td><td> 7</td><td> 8</td><td>   NA</td></tr>\n",
       "\t<tr><td>Angela Peterson</td><td>F</td><td>30</td><td> 6</td><td> 8</td><td> 8</td><td>10</td><td>   NA</td></tr>\n",
       "\t<tr><td>Emily Johnston </td><td>F</td><td>42</td><td> 7</td><td> 9</td><td>10</td><td>10</td><td>   NA</td></tr>\n",
       "\t<tr><td>Barbara Scott  </td><td>?</td><td>29</td><td> 5</td><td> 8</td><td> 9</td><td> 7</td><td>   NA</td></tr>\n",
       "\t<tr><td>Benjamin Eng   </td><td>M</td><td>36</td><td> 9</td><td> 7</td><td> 8</td><td> 8</td><td>   NA</td></tr>\n",
       "</tbody>\n",
       "</table>\n"
      ],
      "text/latex": [
       "A data.frame: 8 × 8\n",
       "\\begin{tabular}{llllllll}\n",
       " name & gender & age & exams & Q1 & Q2 & Q3 & salary\\\\\n",
       " <chr> & <chr> & <dbl> & <dbl> & <dbl> & <dbl> & <dbl> & <dbl>\\\\\n",
       "\\hline\n",
       "\t Embryo Luo      & M & -1 & 10 & 10 &  9 &  9 & 3e+05\\\\\n",
       "\t                 & F & 25 &  3 & NA &  9 &  7 &    NA\\\\\n",
       "\t Peter Smith     & M & 22 &  0 &  4 &  5 &  5 & 8e+04\\\\\n",
       "\t NA              & F & 50 &  4 &  7 &  7 &  8 &    NA\\\\\n",
       "\t Angela Peterson & F & 30 &  6 &  8 &  8 & 10 &    NA\\\\\n",
       "\t Emily Johnston  & F & 42 &  7 &  9 & 10 & 10 &    NA\\\\\n",
       "\t Barbara Scott   & ? & 29 &  5 &  8 &  9 &  7 &    NA\\\\\n",
       "\t Benjamin Eng    & M & 36 &  9 &  7 &  8 &  8 &    NA\\\\\n",
       "\\end{tabular}\n"
      ],
      "text/markdown": [
       "\n",
       "A data.frame: 8 × 8\n",
       "\n",
       "| name &lt;chr&gt; | gender &lt;chr&gt; | age &lt;dbl&gt; | exams &lt;dbl&gt; | Q1 &lt;dbl&gt; | Q2 &lt;dbl&gt; | Q3 &lt;dbl&gt; | salary &lt;dbl&gt; |\n",
       "|---|---|---|---|---|---|---|---|\n",
       "| Embryo Luo      | M | -1 | 10 | 10 |  9 |  9 | 3e+05 |\n",
       "| <!----> | F | 25 |  3 | NA |  9 |  7 |    NA |\n",
       "| Peter Smith     | M | 22 |  0 |  4 |  5 |  5 | 8e+04 |\n",
       "| NA              | F | 50 |  4 |  7 |  7 |  8 |    NA |\n",
       "| Angela Peterson | F | 30 |  6 |  8 |  8 | 10 |    NA |\n",
       "| Emily Johnston  | F | 42 |  7 |  9 | 10 | 10 |    NA |\n",
       "| Barbara Scott   | ? | 29 |  5 |  8 |  9 |  7 |    NA |\n",
       "| Benjamin Eng    | M | 36 |  9 |  7 |  8 |  8 |    NA |\n",
       "\n"
      ],
      "text/plain": [
       "  name            gender age exams Q1 Q2 Q3 salary\n",
       "1 Embryo Luo      M      -1  10    10  9  9 3e+05 \n",
       "2                 F      25   3    NA  9  7    NA \n",
       "3 Peter Smith     M      22   0     4  5  5 8e+04 \n",
       "4 NA              F      50   4     7  7  8    NA \n",
       "5 Angela Peterson F      30   6     8  8 10    NA \n",
       "6 Emily Johnston  F      42   7     9 10 10    NA \n",
       "7 Barbara Scott   ?      29   5     8  9  7    NA \n",
       "8 Benjamin Eng    M      36   9     7  8  8    NA "
      ]
     },
     "metadata": {},
     "output_type": "display_data"
    }
   ],
   "source": [
    "# Removing unneeded variables\n",
    "actuary$x <- NULL\n",
    "actuary "
   ]
  },
  {
   "cell_type": "code",
   "execution_count": 53,
   "metadata": {
    "vscode": {
     "languageId": "r"
    }
   },
   "outputs": [
    {
     "data": {
      "text/html": [
       "<table class=\"dataframe\">\n",
       "<caption>A data.frame: 8 × 7</caption>\n",
       "<thead>\n",
       "\t<tr><th scope=col>name</th><th scope=col>gender</th><th scope=col>age</th><th scope=col>exams</th><th scope=col>Q1</th><th scope=col>Q2</th><th scope=col>Q3</th></tr>\n",
       "\t<tr><th scope=col>&lt;chr&gt;</th><th scope=col>&lt;chr&gt;</th><th scope=col>&lt;dbl&gt;</th><th scope=col>&lt;dbl&gt;</th><th scope=col>&lt;dbl&gt;</th><th scope=col>&lt;dbl&gt;</th><th scope=col>&lt;dbl&gt;</th></tr>\n",
       "</thead>\n",
       "<tbody>\n",
       "\t<tr><td>Embryo Luo     </td><td>M</td><td>-1</td><td>10</td><td>10</td><td> 9</td><td> 9</td></tr>\n",
       "\t<tr><td>               </td><td>F</td><td>25</td><td> 3</td><td>NA</td><td> 9</td><td> 7</td></tr>\n",
       "\t<tr><td>Peter Smith    </td><td>M</td><td>22</td><td> 0</td><td> 4</td><td> 5</td><td> 5</td></tr>\n",
       "\t<tr><td>NA             </td><td>F</td><td>50</td><td> 4</td><td> 7</td><td> 7</td><td> 8</td></tr>\n",
       "\t<tr><td>Angela Peterson</td><td>F</td><td>30</td><td> 6</td><td> 8</td><td> 8</td><td>10</td></tr>\n",
       "\t<tr><td>Emily Johnston </td><td>F</td><td>42</td><td> 7</td><td> 9</td><td>10</td><td>10</td></tr>\n",
       "\t<tr><td>Barbara Scott  </td><td>?</td><td>29</td><td> 5</td><td> 8</td><td> 9</td><td> 7</td></tr>\n",
       "\t<tr><td>Benjamin Eng   </td><td>M</td><td>36</td><td> 9</td><td> 7</td><td> 8</td><td> 8</td></tr>\n",
       "</tbody>\n",
       "</table>\n"
      ],
      "text/latex": [
       "A data.frame: 8 × 7\n",
       "\\begin{tabular}{lllllll}\n",
       " name & gender & age & exams & Q1 & Q2 & Q3\\\\\n",
       " <chr> & <chr> & <dbl> & <dbl> & <dbl> & <dbl> & <dbl>\\\\\n",
       "\\hline\n",
       "\t Embryo Luo      & M & -1 & 10 & 10 &  9 &  9\\\\\n",
       "\t                 & F & 25 &  3 & NA &  9 &  7\\\\\n",
       "\t Peter Smith     & M & 22 &  0 &  4 &  5 &  5\\\\\n",
       "\t NA              & F & 50 &  4 &  7 &  7 &  8\\\\\n",
       "\t Angela Peterson & F & 30 &  6 &  8 &  8 & 10\\\\\n",
       "\t Emily Johnston  & F & 42 &  7 &  9 & 10 & 10\\\\\n",
       "\t Barbara Scott   & ? & 29 &  5 &  8 &  9 &  7\\\\\n",
       "\t Benjamin Eng    & M & 36 &  9 &  7 &  8 &  8\\\\\n",
       "\\end{tabular}\n"
      ],
      "text/markdown": [
       "\n",
       "A data.frame: 8 × 7\n",
       "\n",
       "| name &lt;chr&gt; | gender &lt;chr&gt; | age &lt;dbl&gt; | exams &lt;dbl&gt; | Q1 &lt;dbl&gt; | Q2 &lt;dbl&gt; | Q3 &lt;dbl&gt; |\n",
       "|---|---|---|---|---|---|---|\n",
       "| Embryo Luo      | M | -1 | 10 | 10 |  9 |  9 |\n",
       "| <!----> | F | 25 |  3 | NA |  9 |  7 |\n",
       "| Peter Smith     | M | 22 |  0 |  4 |  5 |  5 |\n",
       "| NA              | F | 50 |  4 |  7 |  7 |  8 |\n",
       "| Angela Peterson | F | 30 |  6 |  8 |  8 | 10 |\n",
       "| Emily Johnston  | F | 42 |  7 |  9 | 10 | 10 |\n",
       "| Barbara Scott   | ? | 29 |  5 |  8 |  9 |  7 |\n",
       "| Benjamin Eng    | M | 36 |  9 |  7 |  8 |  8 |\n",
       "\n"
      ],
      "text/plain": [
       "  name            gender age exams Q1 Q2 Q3\n",
       "1 Embryo Luo      M      -1  10    10  9  9\n",
       "2                 F      25   3    NA  9  7\n",
       "3 Peter Smith     M      22   0     4  5  5\n",
       "4 NA              F      50   4     7  7  8\n",
       "5 Angela Peterson F      30   6     8  8 10\n",
       "6 Emily Johnston  F      42   7     9 10 10\n",
       "7 Barbara Scott   ?      29   5     8  9  7\n",
       "8 Benjamin Eng    M      36   9     7  8  8"
      ]
     },
     "metadata": {},
     "output_type": "display_data"
    },
    {
     "data": {
      "text/html": [
       "<style>\n",
       ".list-inline {list-style: none; margin:0; padding: 0}\n",
       ".list-inline>li {display: inline-block}\n",
       ".list-inline>li:not(:last-child)::after {content: \"\\00b7\"; padding: 0 .5ex}\n",
       "</style>\n",
       "<ol class=list-inline><li>FALSE</li><li>TRUE</li><li>FALSE</li><li>FALSE</li><li>FALSE</li><li>FALSE</li><li>FALSE</li><li>FALSE</li></ol>\n"
      ],
      "text/latex": [
       "\\begin{enumerate*}\n",
       "\\item FALSE\n",
       "\\item TRUE\n",
       "\\item FALSE\n",
       "\\item FALSE\n",
       "\\item FALSE\n",
       "\\item FALSE\n",
       "\\item FALSE\n",
       "\\item FALSE\n",
       "\\end{enumerate*}\n"
      ],
      "text/markdown": [
       "1. FALSE\n",
       "2. TRUE\n",
       "3. FALSE\n",
       "4. FALSE\n",
       "5. FALSE\n",
       "6. FALSE\n",
       "7. FALSE\n",
       "8. FALSE\n",
       "\n",
       "\n"
      ],
      "text/plain": [
       "[1] FALSE  TRUE FALSE FALSE FALSE FALSE FALSE FALSE"
      ]
     },
     "metadata": {},
     "output_type": "display_data"
    },
    {
     "data": {
      "text/html": [
       "<table class=\"dataframe\">\n",
       "<caption>A data.frame: 7 × 7</caption>\n",
       "<thead>\n",
       "\t<tr><th></th><th scope=col>name</th><th scope=col>gender</th><th scope=col>age</th><th scope=col>exams</th><th scope=col>Q1</th><th scope=col>Q2</th><th scope=col>Q3</th></tr>\n",
       "\t<tr><th></th><th scope=col>&lt;chr&gt;</th><th scope=col>&lt;chr&gt;</th><th scope=col>&lt;dbl&gt;</th><th scope=col>&lt;dbl&gt;</th><th scope=col>&lt;dbl&gt;</th><th scope=col>&lt;dbl&gt;</th><th scope=col>&lt;dbl&gt;</th></tr>\n",
       "</thead>\n",
       "<tbody>\n",
       "\t<tr><th scope=row>1</th><td>Embryo Luo     </td><td>M</td><td>-1</td><td>10</td><td>10</td><td> 9</td><td> 9</td></tr>\n",
       "\t<tr><th scope=row>3</th><td>Peter Smith    </td><td>M</td><td>22</td><td> 0</td><td> 4</td><td> 5</td><td> 5</td></tr>\n",
       "\t<tr><th scope=row>4</th><td>NA             </td><td>F</td><td>50</td><td> 4</td><td> 7</td><td> 7</td><td> 8</td></tr>\n",
       "\t<tr><th scope=row>5</th><td>Angela Peterson</td><td>F</td><td>30</td><td> 6</td><td> 8</td><td> 8</td><td>10</td></tr>\n",
       "\t<tr><th scope=row>6</th><td>Emily Johnston </td><td>F</td><td>42</td><td> 7</td><td> 9</td><td>10</td><td>10</td></tr>\n",
       "\t<tr><th scope=row>7</th><td>Barbara Scott  </td><td>?</td><td>29</td><td> 5</td><td> 8</td><td> 9</td><td> 7</td></tr>\n",
       "\t<tr><th scope=row>8</th><td>Benjamin Eng   </td><td>M</td><td>36</td><td> 9</td><td> 7</td><td> 8</td><td> 8</td></tr>\n",
       "</tbody>\n",
       "</table>\n"
      ],
      "text/latex": [
       "A data.frame: 7 × 7\n",
       "\\begin{tabular}{r|lllllll}\n",
       "  & name & gender & age & exams & Q1 & Q2 & Q3\\\\\n",
       "  & <chr> & <chr> & <dbl> & <dbl> & <dbl> & <dbl> & <dbl>\\\\\n",
       "\\hline\n",
       "\t1 & Embryo Luo      & M & -1 & 10 & 10 &  9 &  9\\\\\n",
       "\t3 & Peter Smith     & M & 22 &  0 &  4 &  5 &  5\\\\\n",
       "\t4 & NA              & F & 50 &  4 &  7 &  7 &  8\\\\\n",
       "\t5 & Angela Peterson & F & 30 &  6 &  8 &  8 & 10\\\\\n",
       "\t6 & Emily Johnston  & F & 42 &  7 &  9 & 10 & 10\\\\\n",
       "\t7 & Barbara Scott   & ? & 29 &  5 &  8 &  9 &  7\\\\\n",
       "\t8 & Benjamin Eng    & M & 36 &  9 &  7 &  8 &  8\\\\\n",
       "\\end{tabular}\n"
      ],
      "text/markdown": [
       "\n",
       "A data.frame: 7 × 7\n",
       "\n",
       "| <!--/--> | name &lt;chr&gt; | gender &lt;chr&gt; | age &lt;dbl&gt; | exams &lt;dbl&gt; | Q1 &lt;dbl&gt; | Q2 &lt;dbl&gt; | Q3 &lt;dbl&gt; |\n",
       "|---|---|---|---|---|---|---|---|\n",
       "| 1 | Embryo Luo      | M | -1 | 10 | 10 |  9 |  9 |\n",
       "| 3 | Peter Smith     | M | 22 |  0 |  4 |  5 |  5 |\n",
       "| 4 | NA              | F | 50 |  4 |  7 |  7 |  8 |\n",
       "| 5 | Angela Peterson | F | 30 |  6 |  8 |  8 | 10 |\n",
       "| 6 | Emily Johnston  | F | 42 |  7 |  9 | 10 | 10 |\n",
       "| 7 | Barbara Scott   | ? | 29 |  5 |  8 |  9 |  7 |\n",
       "| 8 | Benjamin Eng    | M | 36 |  9 |  7 |  8 |  8 |\n",
       "\n"
      ],
      "text/plain": [
       "  name            gender age exams Q1 Q2 Q3\n",
       "1 Embryo Luo      M      -1  10    10  9  9\n",
       "3 Peter Smith     M      22   0     4  5  5\n",
       "4 NA              F      50   4     7  7  8\n",
       "5 Angela Peterson F      30   6     8  8 10\n",
       "6 Emily Johnston  F      42   7     9 10 10\n",
       "7 Barbara Scott   ?      29   5     8  9  7\n",
       "8 Benjamin Eng    M      36   9     7  8  8"
      ]
     },
     "metadata": {},
     "output_type": "display_data"
    },
    {
     "data": {
      "text/html": [
       "<table class=\"dataframe\">\n",
       "<caption>A data.frame: 6 × 7</caption>\n",
       "<thead>\n",
       "\t<tr><th></th><th scope=col>name</th><th scope=col>gender</th><th scope=col>age</th><th scope=col>exams</th><th scope=col>Q1</th><th scope=col>Q2</th><th scope=col>Q3</th></tr>\n",
       "\t<tr><th></th><th scope=col>&lt;chr&gt;</th><th scope=col>&lt;chr&gt;</th><th scope=col>&lt;dbl&gt;</th><th scope=col>&lt;dbl&gt;</th><th scope=col>&lt;dbl&gt;</th><th scope=col>&lt;dbl&gt;</th><th scope=col>&lt;dbl&gt;</th></tr>\n",
       "</thead>\n",
       "<tbody>\n",
       "\t<tr><th scope=row>1</th><td>Embryo Luo     </td><td>M</td><td>-1</td><td>10</td><td>10</td><td> 9</td><td> 9</td></tr>\n",
       "\t<tr><th scope=row>3</th><td>Peter Smith    </td><td>M</td><td>22</td><td> 0</td><td> 4</td><td> 5</td><td> 5</td></tr>\n",
       "\t<tr><th scope=row>5</th><td>Angela Peterson</td><td>F</td><td>30</td><td> 6</td><td> 8</td><td> 8</td><td>10</td></tr>\n",
       "\t<tr><th scope=row>6</th><td>Emily Johnston </td><td>F</td><td>42</td><td> 7</td><td> 9</td><td>10</td><td>10</td></tr>\n",
       "\t<tr><th scope=row>7</th><td>Barbara Scott  </td><td>?</td><td>29</td><td> 5</td><td> 8</td><td> 9</td><td> 7</td></tr>\n",
       "\t<tr><th scope=row>8</th><td>Benjamin Eng   </td><td>M</td><td>36</td><td> 9</td><td> 7</td><td> 8</td><td> 8</td></tr>\n",
       "</tbody>\n",
       "</table>\n"
      ],
      "text/latex": [
       "A data.frame: 6 × 7\n",
       "\\begin{tabular}{r|lllllll}\n",
       "  & name & gender & age & exams & Q1 & Q2 & Q3\\\\\n",
       "  & <chr> & <chr> & <dbl> & <dbl> & <dbl> & <dbl> & <dbl>\\\\\n",
       "\\hline\n",
       "\t1 & Embryo Luo      & M & -1 & 10 & 10 &  9 &  9\\\\\n",
       "\t3 & Peter Smith     & M & 22 &  0 &  4 &  5 &  5\\\\\n",
       "\t5 & Angela Peterson & F & 30 &  6 &  8 &  8 & 10\\\\\n",
       "\t6 & Emily Johnston  & F & 42 &  7 &  9 & 10 & 10\\\\\n",
       "\t7 & Barbara Scott   & ? & 29 &  5 &  8 &  9 &  7\\\\\n",
       "\t8 & Benjamin Eng    & M & 36 &  9 &  7 &  8 &  8\\\\\n",
       "\\end{tabular}\n"
      ],
      "text/markdown": [
       "\n",
       "A data.frame: 6 × 7\n",
       "\n",
       "| <!--/--> | name &lt;chr&gt; | gender &lt;chr&gt; | age &lt;dbl&gt; | exams &lt;dbl&gt; | Q1 &lt;dbl&gt; | Q2 &lt;dbl&gt; | Q3 &lt;dbl&gt; |\n",
       "|---|---|---|---|---|---|---|---|\n",
       "| 1 | Embryo Luo      | M | -1 | 10 | 10 |  9 |  9 |\n",
       "| 3 | Peter Smith     | M | 22 |  0 |  4 |  5 |  5 |\n",
       "| 5 | Angela Peterson | F | 30 |  6 |  8 |  8 | 10 |\n",
       "| 6 | Emily Johnston  | F | 42 |  7 |  9 | 10 | 10 |\n",
       "| 7 | Barbara Scott   | ? | 29 |  5 |  8 |  9 |  7 |\n",
       "| 8 | Benjamin Eng    | M | 36 |  9 |  7 |  8 |  8 |\n",
       "\n"
      ],
      "text/plain": [
       "  name            gender age exams Q1 Q2 Q3\n",
       "1 Embryo Luo      M      -1  10    10  9  9\n",
       "3 Peter Smith     M      22   0     4  5  5\n",
       "5 Angela Peterson F      30   6     8  8 10\n",
       "6 Emily Johnston  F      42   7     9 10 10\n",
       "7 Barbara Scott   ?      29   5     8  9  7\n",
       "8 Benjamin Eng    M      36   9     7  8  8"
      ]
     },
     "metadata": {},
     "output_type": "display_data"
    },
    {
     "data": {
      "text/html": [
       "<table class=\"dataframe\">\n",
       "<caption>A data.frame: 6 × 7</caption>\n",
       "<thead>\n",
       "\t<tr><th></th><th scope=col>name</th><th scope=col>gender</th><th scope=col>age</th><th scope=col>exams</th><th scope=col>Q1</th><th scope=col>Q2</th><th scope=col>Q3</th></tr>\n",
       "\t<tr><th></th><th scope=col>&lt;chr&gt;</th><th scope=col>&lt;chr&gt;</th><th scope=col>&lt;dbl&gt;</th><th scope=col>&lt;dbl&gt;</th><th scope=col>&lt;dbl&gt;</th><th scope=col>&lt;dbl&gt;</th><th scope=col>&lt;dbl&gt;</th></tr>\n",
       "</thead>\n",
       "<tbody>\n",
       "\t<tr><th scope=row>1</th><td>Embryo Luo     </td><td>M</td><td>-1</td><td>10</td><td>10</td><td> 9</td><td> 9</td></tr>\n",
       "\t<tr><th scope=row>3</th><td>Peter Smith    </td><td>M</td><td>22</td><td> 0</td><td> 4</td><td> 5</td><td> 5</td></tr>\n",
       "\t<tr><th scope=row>5</th><td>Angela Peterson</td><td>F</td><td>30</td><td> 6</td><td> 8</td><td> 8</td><td>10</td></tr>\n",
       "\t<tr><th scope=row>6</th><td>Emily Johnston </td><td>F</td><td>42</td><td> 7</td><td> 9</td><td>10</td><td>10</td></tr>\n",
       "\t<tr><th scope=row>7</th><td>Barbara Scott  </td><td>?</td><td>29</td><td> 5</td><td> 8</td><td> 9</td><td> 7</td></tr>\n",
       "\t<tr><th scope=row>8</th><td>Benjamin Eng   </td><td>M</td><td>36</td><td> 9</td><td> 7</td><td> 8</td><td> 8</td></tr>\n",
       "</tbody>\n",
       "</table>\n"
      ],
      "text/latex": [
       "A data.frame: 6 × 7\n",
       "\\begin{tabular}{r|lllllll}\n",
       "  & name & gender & age & exams & Q1 & Q2 & Q3\\\\\n",
       "  & <chr> & <chr> & <dbl> & <dbl> & <dbl> & <dbl> & <dbl>\\\\\n",
       "\\hline\n",
       "\t1 & Embryo Luo      & M & -1 & 10 & 10 &  9 &  9\\\\\n",
       "\t3 & Peter Smith     & M & 22 &  0 &  4 &  5 &  5\\\\\n",
       "\t5 & Angela Peterson & F & 30 &  6 &  8 &  8 & 10\\\\\n",
       "\t6 & Emily Johnston  & F & 42 &  7 &  9 & 10 & 10\\\\\n",
       "\t7 & Barbara Scott   & ? & 29 &  5 &  8 &  9 &  7\\\\\n",
       "\t8 & Benjamin Eng    & M & 36 &  9 &  7 &  8 &  8\\\\\n",
       "\\end{tabular}\n"
      ],
      "text/markdown": [
       "\n",
       "A data.frame: 6 × 7\n",
       "\n",
       "| <!--/--> | name &lt;chr&gt; | gender &lt;chr&gt; | age &lt;dbl&gt; | exams &lt;dbl&gt; | Q1 &lt;dbl&gt; | Q2 &lt;dbl&gt; | Q3 &lt;dbl&gt; |\n",
       "|---|---|---|---|---|---|---|---|\n",
       "| 1 | Embryo Luo      | M | -1 | 10 | 10 |  9 |  9 |\n",
       "| 3 | Peter Smith     | M | 22 |  0 |  4 |  5 |  5 |\n",
       "| 5 | Angela Peterson | F | 30 |  6 |  8 |  8 | 10 |\n",
       "| 6 | Emily Johnston  | F | 42 |  7 |  9 | 10 | 10 |\n",
       "| 7 | Barbara Scott   | ? | 29 |  5 |  8 |  9 |  7 |\n",
       "| 8 | Benjamin Eng    | M | 36 |  9 |  7 |  8 |  8 |\n",
       "\n"
      ],
      "text/plain": [
       "  name            gender age exams Q1 Q2 Q3\n",
       "1 Embryo Luo      M      -1  10    10  9  9\n",
       "3 Peter Smith     M      22   0     4  5  5\n",
       "5 Angela Peterson F      30   6     8  8 10\n",
       "6 Emily Johnston  F      42   7     9 10 10\n",
       "7 Barbara Scott   ?      29   5     8  9  7\n",
       "8 Benjamin Eng    M      36   9     7  8  8"
      ]
     },
     "metadata": {},
     "output_type": "display_data"
    }
   ],
   "source": [
    "# Missing / Abnormal values\n",
    "actuary$salary <- NULL\n",
    "actuary     # removes salary\n",
    "\n",
    "# logical subsetting to remove NA from Q1\n",
    "is.na(actuary$Q1)\n",
    "actuary.1 <- actuary[!is.na(actuary$Q1), ]\n",
    "actuary.1\n",
    "\n",
    "# complete cases and na omit -> 2 other ways to remove NA rows:\n",
    "\n",
    "cc <- complete.cases(actuary)\n",
    "actuary.2 <- actuary[cc, ]\n",
    "actuary.2\n",
    "\n",
    "actuary.3 <- na.omit(actuary)\n",
    "actuary.3\n"
   ]
  },
  {
   "cell_type": "code",
   "execution_count": 54,
   "metadata": {
    "vscode": {
     "languageId": "r"
    }
   },
   "outputs": [
    {
     "data": {
      "text/html": [
       "<table class=\"dataframe\">\n",
       "<caption>A data.frame: 6 × 7</caption>\n",
       "<thead>\n",
       "\t<tr><th></th><th scope=col>name</th><th scope=col>gender</th><th scope=col>age</th><th scope=col>exams</th><th scope=col>Q1</th><th scope=col>Q2</th><th scope=col>Q3</th></tr>\n",
       "\t<tr><th></th><th scope=col>&lt;chr&gt;</th><th scope=col>&lt;chr&gt;</th><th scope=col>&lt;dbl&gt;</th><th scope=col>&lt;dbl&gt;</th><th scope=col>&lt;dbl&gt;</th><th scope=col>&lt;dbl&gt;</th><th scope=col>&lt;dbl&gt;</th></tr>\n",
       "</thead>\n",
       "<tbody>\n",
       "\t<tr><th scope=row>1</th><td>Embryo Luo     </td><td>M</td><td>-1</td><td>10</td><td>10</td><td> 9</td><td> 9</td></tr>\n",
       "\t<tr><th scope=row>3</th><td>Peter Smith    </td><td>M</td><td>22</td><td> 0</td><td> 4</td><td> 5</td><td> 5</td></tr>\n",
       "\t<tr><th scope=row>5</th><td>Angela Peterson</td><td>F</td><td>30</td><td> 6</td><td> 8</td><td> 8</td><td>10</td></tr>\n",
       "\t<tr><th scope=row>6</th><td>Emily Johnston </td><td>F</td><td>42</td><td> 7</td><td> 9</td><td>10</td><td>10</td></tr>\n",
       "\t<tr><th scope=row>7</th><td>Barbara Scott  </td><td>?</td><td>29</td><td> 5</td><td> 8</td><td> 9</td><td> 7</td></tr>\n",
       "\t<tr><th scope=row>8</th><td>Benjamin Eng   </td><td>M</td><td>36</td><td> 9</td><td> 7</td><td> 8</td><td> 8</td></tr>\n",
       "</tbody>\n",
       "</table>\n"
      ],
      "text/latex": [
       "A data.frame: 6 × 7\n",
       "\\begin{tabular}{r|lllllll}\n",
       "  & name & gender & age & exams & Q1 & Q2 & Q3\\\\\n",
       "  & <chr> & <chr> & <dbl> & <dbl> & <dbl> & <dbl> & <dbl>\\\\\n",
       "\\hline\n",
       "\t1 & Embryo Luo      & M & -1 & 10 & 10 &  9 &  9\\\\\n",
       "\t3 & Peter Smith     & M & 22 &  0 &  4 &  5 &  5\\\\\n",
       "\t5 & Angela Peterson & F & 30 &  6 &  8 &  8 & 10\\\\\n",
       "\t6 & Emily Johnston  & F & 42 &  7 &  9 & 10 & 10\\\\\n",
       "\t7 & Barbara Scott   & ? & 29 &  5 &  8 &  9 &  7\\\\\n",
       "\t8 & Benjamin Eng    & M & 36 &  9 &  7 &  8 &  8\\\\\n",
       "\\end{tabular}\n"
      ],
      "text/markdown": [
       "\n",
       "A data.frame: 6 × 7\n",
       "\n",
       "| <!--/--> | name &lt;chr&gt; | gender &lt;chr&gt; | age &lt;dbl&gt; | exams &lt;dbl&gt; | Q1 &lt;dbl&gt; | Q2 &lt;dbl&gt; | Q3 &lt;dbl&gt; |\n",
       "|---|---|---|---|---|---|---|---|\n",
       "| 1 | Embryo Luo      | M | -1 | 10 | 10 |  9 |  9 |\n",
       "| 3 | Peter Smith     | M | 22 |  0 |  4 |  5 |  5 |\n",
       "| 5 | Angela Peterson | F | 30 |  6 |  8 |  8 | 10 |\n",
       "| 6 | Emily Johnston  | F | 42 |  7 |  9 | 10 | 10 |\n",
       "| 7 | Barbara Scott   | ? | 29 |  5 |  8 |  9 |  7 |\n",
       "| 8 | Benjamin Eng    | M | 36 |  9 |  7 |  8 |  8 |\n",
       "\n"
      ],
      "text/plain": [
       "  name            gender age exams Q1 Q2 Q3\n",
       "1 Embryo Luo      M      -1  10    10  9  9\n",
       "3 Peter Smith     M      22   0     4  5  5\n",
       "5 Angela Peterson F      30   6     8  8 10\n",
       "6 Emily Johnston  F      42   7     9 10 10\n",
       "7 Barbara Scott   ?      29   5     8  9  7\n",
       "8 Benjamin Eng    M      36   9     7  8  8"
      ]
     },
     "metadata": {},
     "output_type": "display_data"
    },
    {
     "data": {
      "text/html": [
       "2"
      ],
      "text/latex": [
       "2"
      ],
      "text/markdown": [
       "2"
      ],
      "text/plain": [
       "[1] 2"
      ]
     },
     "metadata": {},
     "output_type": "display_data"
    }
   ],
   "source": [
    "# continue to work with .3 version, rename as .n version\n",
    "\n",
    "actuary.n <- actuary.3  # cleaned dataset\n",
    "actuary.n \n",
    "\n",
    "# number of removed rows: \n",
    "nrow(actuary) - nrow(actuary.n)"
   ]
  },
  {
   "cell_type": "code",
   "execution_count": 55,
   "metadata": {
    "vscode": {
     "languageId": "r"
    }
   },
   "outputs": [
    {
     "data": {
      "text/html": [
       "<table class=\"dataframe\">\n",
       "<caption>A data.frame: 6 × 8</caption>\n",
       "<thead>\n",
       "\t<tr><th></th><th scope=col>name</th><th scope=col>gender</th><th scope=col>age</th><th scope=col>exams</th><th scope=col>Q1</th><th scope=col>Q2</th><th scope=col>Q3</th><th scope=col>S</th></tr>\n",
       "\t<tr><th></th><th scope=col>&lt;chr&gt;</th><th scope=col>&lt;chr&gt;</th><th scope=col>&lt;dbl&gt;</th><th scope=col>&lt;dbl&gt;</th><th scope=col>&lt;dbl&gt;</th><th scope=col>&lt;dbl&gt;</th><th scope=col>&lt;dbl&gt;</th><th scope=col>&lt;dbl&gt;</th></tr>\n",
       "</thead>\n",
       "<tbody>\n",
       "\t<tr><th scope=row>1</th><td>Embryo Luo     </td><td>M</td><td>-1</td><td>10</td><td>10</td><td> 9</td><td> 9</td><td>9.333333</td></tr>\n",
       "\t<tr><th scope=row>3</th><td>Peter Smith    </td><td>M</td><td>22</td><td> 0</td><td> 4</td><td> 5</td><td> 5</td><td>4.666667</td></tr>\n",
       "\t<tr><th scope=row>5</th><td>Angela Peterson</td><td>F</td><td>30</td><td> 6</td><td> 8</td><td> 8</td><td>10</td><td>8.666667</td></tr>\n",
       "\t<tr><th scope=row>6</th><td>Emily Johnston </td><td>F</td><td>42</td><td> 7</td><td> 9</td><td>10</td><td>10</td><td>9.666667</td></tr>\n",
       "\t<tr><th scope=row>7</th><td>Barbara Scott  </td><td>?</td><td>29</td><td> 5</td><td> 8</td><td> 9</td><td> 7</td><td>8.000000</td></tr>\n",
       "\t<tr><th scope=row>8</th><td>Benjamin Eng   </td><td>M</td><td>36</td><td> 9</td><td> 7</td><td> 8</td><td> 8</td><td>7.666667</td></tr>\n",
       "</tbody>\n",
       "</table>\n"
      ],
      "text/latex": [
       "A data.frame: 6 × 8\n",
       "\\begin{tabular}{r|llllllll}\n",
       "  & name & gender & age & exams & Q1 & Q2 & Q3 & S\\\\\n",
       "  & <chr> & <chr> & <dbl> & <dbl> & <dbl> & <dbl> & <dbl> & <dbl>\\\\\n",
       "\\hline\n",
       "\t1 & Embryo Luo      & M & -1 & 10 & 10 &  9 &  9 & 9.333333\\\\\n",
       "\t3 & Peter Smith     & M & 22 &  0 &  4 &  5 &  5 & 4.666667\\\\\n",
       "\t5 & Angela Peterson & F & 30 &  6 &  8 &  8 & 10 & 8.666667\\\\\n",
       "\t6 & Emily Johnston  & F & 42 &  7 &  9 & 10 & 10 & 9.666667\\\\\n",
       "\t7 & Barbara Scott   & ? & 29 &  5 &  8 &  9 &  7 & 8.000000\\\\\n",
       "\t8 & Benjamin Eng    & M & 36 &  9 &  7 &  8 &  8 & 7.666667\\\\\n",
       "\\end{tabular}\n"
      ],
      "text/markdown": [
       "\n",
       "A data.frame: 6 × 8\n",
       "\n",
       "| <!--/--> | name &lt;chr&gt; | gender &lt;chr&gt; | age &lt;dbl&gt; | exams &lt;dbl&gt; | Q1 &lt;dbl&gt; | Q2 &lt;dbl&gt; | Q3 &lt;dbl&gt; | S &lt;dbl&gt; |\n",
       "|---|---|---|---|---|---|---|---|---|\n",
       "| 1 | Embryo Luo      | M | -1 | 10 | 10 |  9 |  9 | 9.333333 |\n",
       "| 3 | Peter Smith     | M | 22 |  0 |  4 |  5 |  5 | 4.666667 |\n",
       "| 5 | Angela Peterson | F | 30 |  6 |  8 |  8 | 10 | 8.666667 |\n",
       "| 6 | Emily Johnston  | F | 42 |  7 |  9 | 10 | 10 | 9.666667 |\n",
       "| 7 | Barbara Scott   | ? | 29 |  5 |  8 |  9 |  7 | 8.000000 |\n",
       "| 8 | Benjamin Eng    | M | 36 |  9 |  7 |  8 |  8 | 7.666667 |\n",
       "\n"
      ],
      "text/plain": [
       "  name            gender age exams Q1 Q2 Q3 S       \n",
       "1 Embryo Luo      M      -1  10    10  9  9 9.333333\n",
       "3 Peter Smith     M      22   0     4  5  5 4.666667\n",
       "5 Angela Peterson F      30   6     8  8 10 8.666667\n",
       "6 Emily Johnston  F      42   7     9 10 10 9.666667\n",
       "7 Barbara Scott   ?      29   5     8  9  7 8.000000\n",
       "8 Benjamin Eng    M      36   9     7  8  8 7.666667"
      ]
     },
     "metadata": {},
     "output_type": "display_data"
    }
   ],
   "source": [
    "# Adding variables\n",
    "# Adding a var called S, which averages the 3 Q evaluations. \n",
    "\n",
    "actuary.n$S <- (actuary.n$Q1 + actuary.n$Q2 + actuary.n$Q3) / 3\n",
    "actuary.n\n"
   ]
  },
  {
   "cell_type": "code",
   "execution_count": 56,
   "metadata": {
    "vscode": {
     "languageId": "r"
    }
   },
   "outputs": [
    {
     "data": {
      "text/html": [
       "<table class=\"dataframe\">\n",
       "<caption>A data.frame: 6 × 8</caption>\n",
       "<thead>\n",
       "\t<tr><th></th><th scope=col>name</th><th scope=col>gender</th><th scope=col>age</th><th scope=col>exams</th><th scope=col>Q1</th><th scope=col>Q2</th><th scope=col>Q3</th><th scope=col>S</th></tr>\n",
       "\t<tr><th></th><th scope=col>&lt;chr&gt;</th><th scope=col>&lt;chr&gt;</th><th scope=col>&lt;dbl&gt;</th><th scope=col>&lt;dbl&gt;</th><th scope=col>&lt;dbl&gt;</th><th scope=col>&lt;dbl&gt;</th><th scope=col>&lt;dbl&gt;</th><th scope=col>&lt;dbl&gt;</th></tr>\n",
       "</thead>\n",
       "<tbody>\n",
       "\t<tr><th scope=row>1</th><td>Embryo Luo     </td><td>M</td><td>-1</td><td>10</td><td>10</td><td> 9</td><td> 9</td><td>9.333333</td></tr>\n",
       "\t<tr><th scope=row>3</th><td>Peter Smith    </td><td>M</td><td>22</td><td> 0</td><td> 4</td><td> 5</td><td> 5</td><td>4.666667</td></tr>\n",
       "\t<tr><th scope=row>5</th><td>Angela Peterson</td><td>F</td><td>30</td><td> 6</td><td> 8</td><td> 8</td><td>10</td><td>8.666667</td></tr>\n",
       "\t<tr><th scope=row>6</th><td>Emily Johnston </td><td>F</td><td>42</td><td> 7</td><td> 9</td><td>10</td><td>10</td><td>9.666667</td></tr>\n",
       "\t<tr><th scope=row>7</th><td>Barbara Scott  </td><td>?</td><td>29</td><td> 5</td><td> 8</td><td> 9</td><td> 7</td><td>8.000000</td></tr>\n",
       "\t<tr><th scope=row>8</th><td>Benjamin Eng   </td><td>M</td><td>36</td><td> 9</td><td> 7</td><td> 8</td><td> 8</td><td>7.666667</td></tr>\n",
       "</tbody>\n",
       "</table>\n"
      ],
      "text/latex": [
       "A data.frame: 6 × 8\n",
       "\\begin{tabular}{r|llllllll}\n",
       "  & name & gender & age & exams & Q1 & Q2 & Q3 & S\\\\\n",
       "  & <chr> & <chr> & <dbl> & <dbl> & <dbl> & <dbl> & <dbl> & <dbl>\\\\\n",
       "\\hline\n",
       "\t1 & Embryo Luo      & M & -1 & 10 & 10 &  9 &  9 & 9.333333\\\\\n",
       "\t3 & Peter Smith     & M & 22 &  0 &  4 &  5 &  5 & 4.666667\\\\\n",
       "\t5 & Angela Peterson & F & 30 &  6 &  8 &  8 & 10 & 8.666667\\\\\n",
       "\t6 & Emily Johnston  & F & 42 &  7 &  9 & 10 & 10 & 9.666667\\\\\n",
       "\t7 & Barbara Scott   & ? & 29 &  5 &  8 &  9 &  7 & 8.000000\\\\\n",
       "\t8 & Benjamin Eng    & M & 36 &  9 &  7 &  8 &  8 & 7.666667\\\\\n",
       "\\end{tabular}\n"
      ],
      "text/markdown": [
       "\n",
       "A data.frame: 6 × 8\n",
       "\n",
       "| <!--/--> | name &lt;chr&gt; | gender &lt;chr&gt; | age &lt;dbl&gt; | exams &lt;dbl&gt; | Q1 &lt;dbl&gt; | Q2 &lt;dbl&gt; | Q3 &lt;dbl&gt; | S &lt;dbl&gt; |\n",
       "|---|---|---|---|---|---|---|---|---|\n",
       "| 1 | Embryo Luo      | M | -1 | 10 | 10 |  9 |  9 | 9.333333 |\n",
       "| 3 | Peter Smith     | M | 22 |  0 |  4 |  5 |  5 | 4.666667 |\n",
       "| 5 | Angela Peterson | F | 30 |  6 |  8 |  8 | 10 | 8.666667 |\n",
       "| 6 | Emily Johnston  | F | 42 |  7 |  9 | 10 | 10 | 9.666667 |\n",
       "| 7 | Barbara Scott   | ? | 29 |  5 |  8 |  9 |  7 | 8.000000 |\n",
       "| 8 | Benjamin Eng    | M | 36 |  9 |  7 |  8 |  8 | 7.666667 |\n",
       "\n"
      ],
      "text/plain": [
       "  name            gender age exams Q1 Q2 Q3 S       \n",
       "1 Embryo Luo      M      -1  10    10  9  9 9.333333\n",
       "3 Peter Smith     M      22   0     4  5  5 4.666667\n",
       "5 Angela Peterson F      30   6     8  8 10 8.666667\n",
       "6 Emily Johnston  F      42   7     9 10 10 9.666667\n",
       "7 Barbara Scott   ?      29   5     8  9  7 8.000000\n",
       "8 Benjamin Eng    M      36   9     7  8  8 7.666667"
      ]
     },
     "metadata": {},
     "output_type": "display_data"
    }
   ],
   "source": [
    "# an easier way to perform the above using the apply function:\n",
    "actuary.n$S <- apply(actuary.n[, c(\"Q1\", \"Q2\", \"Q3\")], 1, mean)\n",
    "actuary.n"
   ]
  },
  {
   "cell_type": "code",
   "execution_count": 57,
   "metadata": {
    "vscode": {
     "languageId": "r"
    }
   },
   "outputs": [
    {
     "data": {
      "text/html": [
       "<style>\n",
       ".dl-inline {width: auto; margin:0; padding: 0}\n",
       ".dl-inline>dt, .dl-inline>dd {float: none; width: auto; display: inline-block}\n",
       ".dl-inline>dt::after {content: \":\\0020\"; padding-right: .5ex}\n",
       ".dl-inline>dt:not(:first-of-type) {padding-left: .5ex}\n",
       "</style><dl class=dl-inline><dt>Q1</dt><dd>7.66666666666667</dd><dt>Q2</dt><dd>8.16666666666667</dd><dt>Q3</dt><dd>8.16666666666667</dd></dl>\n"
      ],
      "text/latex": [
       "\\begin{description*}\n",
       "\\item[Q1] 7.66666666666667\n",
       "\\item[Q2] 8.16666666666667\n",
       "\\item[Q3] 8.16666666666667\n",
       "\\end{description*}\n"
      ],
      "text/markdown": [
       "Q1\n",
       ":   7.66666666666667Q2\n",
       ":   8.16666666666667Q3\n",
       ":   8.16666666666667\n",
       "\n"
      ],
      "text/plain": [
       "      Q1       Q2       Q3 \n",
       "7.666667 8.166667 8.166667 "
      ]
     },
     "metadata": {},
     "output_type": "display_data"
    },
    {
     "data": {
      "text/html": [
       "'Emily Johnston'"
      ],
      "text/latex": [
       "'Emily Johnston'"
      ],
      "text/markdown": [
       "'Emily Johnston'"
      ],
      "text/plain": [
       "[1] \"Emily Johnston\""
      ]
     },
     "metadata": {},
     "output_type": "display_data"
    },
    {
     "data": {
      "text/html": [
       "'Peter Smith'"
      ],
      "text/latex": [
       "'Peter Smith'"
      ],
      "text/markdown": [
       "'Peter Smith'"
      ],
      "text/plain": [
       "[1] \"Peter Smith\""
      ]
     },
     "metadata": {},
     "output_type": "display_data"
    },
    {
     "data": {
      "text/html": [
       "<table class=\"dataframe\">\n",
       "<caption>A data.frame: 6 × 8</caption>\n",
       "<thead>\n",
       "\t<tr><th></th><th scope=col>name</th><th scope=col>gender</th><th scope=col>age</th><th scope=col>exams</th><th scope=col>Q1</th><th scope=col>Q2</th><th scope=col>Q3</th><th scope=col>S</th></tr>\n",
       "\t<tr><th></th><th scope=col>&lt;chr&gt;</th><th scope=col>&lt;chr&gt;</th><th scope=col>&lt;dbl&gt;</th><th scope=col>&lt;dbl&gt;</th><th scope=col>&lt;dbl&gt;</th><th scope=col>&lt;dbl&gt;</th><th scope=col>&lt;dbl&gt;</th><th scope=col>&lt;dbl&gt;</th></tr>\n",
       "</thead>\n",
       "<tbody>\n",
       "\t<tr><th scope=row>3</th><td>Peter Smith    </td><td>M</td><td>22</td><td> 0</td><td> 4</td><td> 5</td><td> 5</td><td>4.666667</td></tr>\n",
       "\t<tr><th scope=row>8</th><td>Benjamin Eng   </td><td>M</td><td>36</td><td> 9</td><td> 7</td><td> 8</td><td> 8</td><td>7.666667</td></tr>\n",
       "\t<tr><th scope=row>7</th><td>Barbara Scott  </td><td>?</td><td>29</td><td> 5</td><td> 8</td><td> 9</td><td> 7</td><td>8.000000</td></tr>\n",
       "\t<tr><th scope=row>5</th><td>Angela Peterson</td><td>F</td><td>30</td><td> 6</td><td> 8</td><td> 8</td><td>10</td><td>8.666667</td></tr>\n",
       "\t<tr><th scope=row>1</th><td>Embryo Luo     </td><td>M</td><td>-1</td><td>10</td><td>10</td><td> 9</td><td> 9</td><td>9.333333</td></tr>\n",
       "\t<tr><th scope=row>6</th><td>Emily Johnston </td><td>F</td><td>42</td><td> 7</td><td> 9</td><td>10</td><td>10</td><td>9.666667</td></tr>\n",
       "</tbody>\n",
       "</table>\n"
      ],
      "text/latex": [
       "A data.frame: 6 × 8\n",
       "\\begin{tabular}{r|llllllll}\n",
       "  & name & gender & age & exams & Q1 & Q2 & Q3 & S\\\\\n",
       "  & <chr> & <chr> & <dbl> & <dbl> & <dbl> & <dbl> & <dbl> & <dbl>\\\\\n",
       "\\hline\n",
       "\t3 & Peter Smith     & M & 22 &  0 &  4 &  5 &  5 & 4.666667\\\\\n",
       "\t8 & Benjamin Eng    & M & 36 &  9 &  7 &  8 &  8 & 7.666667\\\\\n",
       "\t7 & Barbara Scott   & ? & 29 &  5 &  8 &  9 &  7 & 8.000000\\\\\n",
       "\t5 & Angela Peterson & F & 30 &  6 &  8 &  8 & 10 & 8.666667\\\\\n",
       "\t1 & Embryo Luo      & M & -1 & 10 & 10 &  9 &  9 & 9.333333\\\\\n",
       "\t6 & Emily Johnston  & F & 42 &  7 &  9 & 10 & 10 & 9.666667\\\\\n",
       "\\end{tabular}\n"
      ],
      "text/markdown": [
       "\n",
       "A data.frame: 6 × 8\n",
       "\n",
       "| <!--/--> | name &lt;chr&gt; | gender &lt;chr&gt; | age &lt;dbl&gt; | exams &lt;dbl&gt; | Q1 &lt;dbl&gt; | Q2 &lt;dbl&gt; | Q3 &lt;dbl&gt; | S &lt;dbl&gt; |\n",
       "|---|---|---|---|---|---|---|---|---|\n",
       "| 3 | Peter Smith     | M | 22 |  0 |  4 |  5 |  5 | 4.666667 |\n",
       "| 8 | Benjamin Eng    | M | 36 |  9 |  7 |  8 |  8 | 7.666667 |\n",
       "| 7 | Barbara Scott   | ? | 29 |  5 |  8 |  9 |  7 | 8.000000 |\n",
       "| 5 | Angela Peterson | F | 30 |  6 |  8 |  8 | 10 | 8.666667 |\n",
       "| 1 | Embryo Luo      | M | -1 | 10 | 10 |  9 |  9 | 9.333333 |\n",
       "| 6 | Emily Johnston  | F | 42 |  7 |  9 | 10 | 10 | 9.666667 |\n",
       "\n"
      ],
      "text/plain": [
       "  name            gender age exams Q1 Q2 Q3 S       \n",
       "3 Peter Smith     M      22   0     4  5  5 4.666667\n",
       "8 Benjamin Eng    M      36   9     7  8  8 7.666667\n",
       "7 Barbara Scott   ?      29   5     8  9  7 8.000000\n",
       "5 Angela Peterson F      30   6     8  8 10 8.666667\n",
       "1 Embryo Luo      M      -1  10    10  9  9 9.333333\n",
       "6 Emily Johnston  F      42   7     9 10 10 9.666667"
      ]
     },
     "metadata": {},
     "output_type": "display_data"
    },
    {
     "data": {
      "text/html": [
       "<table class=\"dataframe\">\n",
       "<caption>A data.frame: 6 × 8</caption>\n",
       "<thead>\n",
       "\t<tr><th></th><th scope=col>name</th><th scope=col>gender</th><th scope=col>age</th><th scope=col>exams</th><th scope=col>Q1</th><th scope=col>Q2</th><th scope=col>Q3</th><th scope=col>S</th></tr>\n",
       "\t<tr><th></th><th scope=col>&lt;chr&gt;</th><th scope=col>&lt;chr&gt;</th><th scope=col>&lt;dbl&gt;</th><th scope=col>&lt;dbl&gt;</th><th scope=col>&lt;dbl&gt;</th><th scope=col>&lt;dbl&gt;</th><th scope=col>&lt;dbl&gt;</th><th scope=col>&lt;dbl&gt;</th></tr>\n",
       "</thead>\n",
       "<tbody>\n",
       "\t<tr><th scope=row>6</th><td>Emily Johnston </td><td>F</td><td>42</td><td> 7</td><td> 9</td><td>10</td><td>10</td><td>9.666667</td></tr>\n",
       "\t<tr><th scope=row>1</th><td>Embryo Luo     </td><td>M</td><td>-1</td><td>10</td><td>10</td><td> 9</td><td> 9</td><td>9.333333</td></tr>\n",
       "\t<tr><th scope=row>5</th><td>Angela Peterson</td><td>F</td><td>30</td><td> 6</td><td> 8</td><td> 8</td><td>10</td><td>8.666667</td></tr>\n",
       "\t<tr><th scope=row>7</th><td>Barbara Scott  </td><td>?</td><td>29</td><td> 5</td><td> 8</td><td> 9</td><td> 7</td><td>8.000000</td></tr>\n",
       "\t<tr><th scope=row>8</th><td>Benjamin Eng   </td><td>M</td><td>36</td><td> 9</td><td> 7</td><td> 8</td><td> 8</td><td>7.666667</td></tr>\n",
       "\t<tr><th scope=row>3</th><td>Peter Smith    </td><td>M</td><td>22</td><td> 0</td><td> 4</td><td> 5</td><td> 5</td><td>4.666667</td></tr>\n",
       "</tbody>\n",
       "</table>\n"
      ],
      "text/latex": [
       "A data.frame: 6 × 8\n",
       "\\begin{tabular}{r|llllllll}\n",
       "  & name & gender & age & exams & Q1 & Q2 & Q3 & S\\\\\n",
       "  & <chr> & <chr> & <dbl> & <dbl> & <dbl> & <dbl> & <dbl> & <dbl>\\\\\n",
       "\\hline\n",
       "\t6 & Emily Johnston  & F & 42 &  7 &  9 & 10 & 10 & 9.666667\\\\\n",
       "\t1 & Embryo Luo      & M & -1 & 10 & 10 &  9 &  9 & 9.333333\\\\\n",
       "\t5 & Angela Peterson & F & 30 &  6 &  8 &  8 & 10 & 8.666667\\\\\n",
       "\t7 & Barbara Scott   & ? & 29 &  5 &  8 &  9 &  7 & 8.000000\\\\\n",
       "\t8 & Benjamin Eng    & M & 36 &  9 &  7 &  8 &  8 & 7.666667\\\\\n",
       "\t3 & Peter Smith     & M & 22 &  0 &  4 &  5 &  5 & 4.666667\\\\\n",
       "\\end{tabular}\n"
      ],
      "text/markdown": [
       "\n",
       "A data.frame: 6 × 8\n",
       "\n",
       "| <!--/--> | name &lt;chr&gt; | gender &lt;chr&gt; | age &lt;dbl&gt; | exams &lt;dbl&gt; | Q1 &lt;dbl&gt; | Q2 &lt;dbl&gt; | Q3 &lt;dbl&gt; | S &lt;dbl&gt; |\n",
       "|---|---|---|---|---|---|---|---|---|\n",
       "| 6 | Emily Johnston  | F | 42 |  7 |  9 | 10 | 10 | 9.666667 |\n",
       "| 1 | Embryo Luo      | M | -1 | 10 | 10 |  9 |  9 | 9.333333 |\n",
       "| 5 | Angela Peterson | F | 30 |  6 |  8 |  8 | 10 | 8.666667 |\n",
       "| 7 | Barbara Scott   | ? | 29 |  5 |  8 |  9 |  7 | 8.000000 |\n",
       "| 8 | Benjamin Eng    | M | 36 |  9 |  7 |  8 |  8 | 7.666667 |\n",
       "| 3 | Peter Smith     | M | 22 |  0 |  4 |  5 |  5 | 4.666667 |\n",
       "\n"
      ],
      "text/plain": [
       "  name            gender age exams Q1 Q2 Q3 S       \n",
       "6 Emily Johnston  F      42   7     9 10 10 9.666667\n",
       "1 Embryo Luo      M      -1  10    10  9  9 9.333333\n",
       "5 Angela Peterson F      30   6     8  8 10 8.666667\n",
       "7 Barbara Scott   ?      29   5     8  9  7 8.000000\n",
       "8 Benjamin Eng    M      36   9     7  8  8 7.666667\n",
       "3 Peter Smith     M      22   0     4  5  5 4.666667"
      ]
     },
     "metadata": {},
     "output_type": "display_data"
    }
   ],
   "source": [
    "# finding the means of the columns: \n",
    "apply(actuary.n[, c(\"Q1\", \"Q2\", \"Q3\")], 2, mean)\n",
    "\n",
    "# finding max and min\n",
    "actuary.n[which.max(actuary.n$S), \"name\"]\n",
    "actuary.n[which.min(actuary.n$S), \"name\"]\n",
    "\n",
    "# Sort S in ascending order\n",
    "actuary.n1 <- actuary.n[order(actuary.n$S), ]\n",
    "\n",
    "# sort in descending\n",
    "actuary.n2 <- actuary.n[order(actuary.n$S, decreasing = TRUE), ]\n",
    "\n",
    "actuary.n1\n",
    "actuary.n2"
   ]
  },
  {
   "cell_type": "code",
   "execution_count": 58,
   "metadata": {
    "vscode": {
     "languageId": "r"
    }
   },
   "outputs": [
    {
     "data": {
      "text/html": [
       "<table class=\"dataframe\">\n",
       "<caption>A data.frame: 1 × 8</caption>\n",
       "<thead>\n",
       "\t<tr><th></th><th scope=col>name</th><th scope=col>gender</th><th scope=col>age</th><th scope=col>exams</th><th scope=col>Q1</th><th scope=col>Q2</th><th scope=col>Q3</th><th scope=col>S</th></tr>\n",
       "\t<tr><th></th><th scope=col>&lt;chr&gt;</th><th scope=col>&lt;chr&gt;</th><th scope=col>&lt;dbl&gt;</th><th scope=col>&lt;dbl&gt;</th><th scope=col>&lt;dbl&gt;</th><th scope=col>&lt;dbl&gt;</th><th scope=col>&lt;dbl&gt;</th><th scope=col>&lt;dbl&gt;</th></tr>\n",
       "</thead>\n",
       "<tbody>\n",
       "\t<tr><th scope=row>1</th><td>Embryo Luo</td><td>M</td><td>-1</td><td>10</td><td>10</td><td>9</td><td>9</td><td>9.333333</td></tr>\n",
       "</tbody>\n",
       "</table>\n"
      ],
      "text/latex": [
       "A data.frame: 1 × 8\n",
       "\\begin{tabular}{r|llllllll}\n",
       "  & name & gender & age & exams & Q1 & Q2 & Q3 & S\\\\\n",
       "  & <chr> & <chr> & <dbl> & <dbl> & <dbl> & <dbl> & <dbl> & <dbl>\\\\\n",
       "\\hline\n",
       "\t1 & Embryo Luo & M & -1 & 10 & 10 & 9 & 9 & 9.333333\\\\\n",
       "\\end{tabular}\n"
      ],
      "text/markdown": [
       "\n",
       "A data.frame: 1 × 8\n",
       "\n",
       "| <!--/--> | name &lt;chr&gt; | gender &lt;chr&gt; | age &lt;dbl&gt; | exams &lt;dbl&gt; | Q1 &lt;dbl&gt; | Q2 &lt;dbl&gt; | Q3 &lt;dbl&gt; | S &lt;dbl&gt; |\n",
       "|---|---|---|---|---|---|---|---|---|\n",
       "| 1 | Embryo Luo | M | -1 | 10 | 10 | 9 | 9 | 9.333333 |\n",
       "\n"
      ],
      "text/plain": [
       "  name       gender age exams Q1 Q2 Q3 S       \n",
       "1 Embryo Luo M      -1  10    10 9  9  9.333333"
      ]
     },
     "metadata": {},
     "output_type": "display_data"
    },
    {
     "data": {
      "text/html": [
       "<table class=\"dataframe\">\n",
       "<caption>A data.frame: 2 × 8</caption>\n",
       "<thead>\n",
       "\t<tr><th></th><th scope=col>name</th><th scope=col>gender</th><th scope=col>age</th><th scope=col>exams</th><th scope=col>Q1</th><th scope=col>Q2</th><th scope=col>Q3</th><th scope=col>S</th></tr>\n",
       "\t<tr><th></th><th scope=col>&lt;chr&gt;</th><th scope=col>&lt;chr&gt;</th><th scope=col>&lt;dbl&gt;</th><th scope=col>&lt;dbl&gt;</th><th scope=col>&lt;dbl&gt;</th><th scope=col>&lt;dbl&gt;</th><th scope=col>&lt;dbl&gt;</th><th scope=col>&lt;dbl&gt;</th></tr>\n",
       "</thead>\n",
       "<tbody>\n",
       "\t<tr><th scope=row>6</th><td>Emily Johnston</td><td>F</td><td>42</td><td>7</td><td>9</td><td>10</td><td>10</td><td>9.666667</td></tr>\n",
       "\t<tr><th scope=row>8</th><td>Benjamin Eng  </td><td>M</td><td>36</td><td>9</td><td>7</td><td> 8</td><td> 8</td><td>7.666667</td></tr>\n",
       "</tbody>\n",
       "</table>\n"
      ],
      "text/latex": [
       "A data.frame: 2 × 8\n",
       "\\begin{tabular}{r|llllllll}\n",
       "  & name & gender & age & exams & Q1 & Q2 & Q3 & S\\\\\n",
       "  & <chr> & <chr> & <dbl> & <dbl> & <dbl> & <dbl> & <dbl> & <dbl>\\\\\n",
       "\\hline\n",
       "\t6 & Emily Johnston & F & 42 & 7 & 9 & 10 & 10 & 9.666667\\\\\n",
       "\t8 & Benjamin Eng   & M & 36 & 9 & 7 &  8 &  8 & 7.666667\\\\\n",
       "\\end{tabular}\n"
      ],
      "text/markdown": [
       "\n",
       "A data.frame: 2 × 8\n",
       "\n",
       "| <!--/--> | name &lt;chr&gt; | gender &lt;chr&gt; | age &lt;dbl&gt; | exams &lt;dbl&gt; | Q1 &lt;dbl&gt; | Q2 &lt;dbl&gt; | Q3 &lt;dbl&gt; | S &lt;dbl&gt; |\n",
       "|---|---|---|---|---|---|---|---|---|\n",
       "| 6 | Emily Johnston | F | 42 | 7 | 9 | 10 | 10 | 9.666667 |\n",
       "| 8 | Benjamin Eng   | M | 36 | 9 | 7 |  8 |  8 | 7.666667 |\n",
       "\n"
      ],
      "text/plain": [
       "  name           gender age exams Q1 Q2 Q3 S       \n",
       "6 Emily Johnston F      42  7     9  10 10 9.666667\n",
       "8 Benjamin Eng   M      36  9     7   8  8 7.666667"
      ]
     },
     "metadata": {},
     "output_type": "display_data"
    },
    {
     "data": {
      "text/html": [
       "1"
      ],
      "text/latex": [
       "1"
      ],
      "text/markdown": [
       "1"
      ],
      "text/plain": [
       "[1] 1"
      ]
     },
     "metadata": {},
     "output_type": "display_data"
    },
    {
     "data": {
      "text/html": [
       "2"
      ],
      "text/latex": [
       "2"
      ],
      "text/markdown": [
       "2"
      ],
      "text/plain": [
       "[1] 2"
      ]
     },
     "metadata": {},
     "output_type": "display_data"
    }
   ],
   "source": [
    "# Logical tests to parse data\n",
    "actuary.FSA <- actuary.n[actuary.n$exams == 10, ]\n",
    "actuary.FSA\n",
    "\n",
    "actuary.ASA <- actuary.n[actuary.n$exams >= 7 & actuary.n$exams <= 9, ]\n",
    "actuary.ASA\n",
    "\n",
    "nrow(actuary.FSA)\n",
    "nrow(actuary.ASA)\n",
    "\n"
   ]
  },
  {
   "cell_type": "code",
   "execution_count": 59,
   "metadata": {
    "vscode": {
     "languageId": "r"
    }
   },
   "outputs": [
    {
     "data": {
      "text/html": [
       "<table class=\"dataframe\">\n",
       "<caption>A data.frame: 6 × 9</caption>\n",
       "<thead>\n",
       "\t<tr><th></th><th scope=col>name</th><th scope=col>gender</th><th scope=col>age</th><th scope=col>exams</th><th scope=col>Q1</th><th scope=col>Q2</th><th scope=col>Q3</th><th scope=col>S</th><th scope=col>title</th></tr>\n",
       "\t<tr><th></th><th scope=col>&lt;chr&gt;</th><th scope=col>&lt;chr&gt;</th><th scope=col>&lt;dbl&gt;</th><th scope=col>&lt;dbl&gt;</th><th scope=col>&lt;dbl&gt;</th><th scope=col>&lt;dbl&gt;</th><th scope=col>&lt;dbl&gt;</th><th scope=col>&lt;dbl&gt;</th><th scope=col>&lt;chr&gt;</th></tr>\n",
       "</thead>\n",
       "<tbody>\n",
       "\t<tr><th scope=row>1</th><td>Embryo Luo     </td><td>M</td><td>-1</td><td>10</td><td>10</td><td> 9</td><td> 9</td><td>9.333333</td><td>FSA    </td></tr>\n",
       "\t<tr><th scope=row>3</th><td>Peter Smith    </td><td>M</td><td>22</td><td> 0</td><td> 4</td><td> 5</td><td> 5</td><td>4.666667</td><td>student</td></tr>\n",
       "\t<tr><th scope=row>5</th><td>Angela Peterson</td><td>F</td><td>30</td><td> 6</td><td> 8</td><td> 8</td><td>10</td><td>8.666667</td><td>student</td></tr>\n",
       "\t<tr><th scope=row>6</th><td>Emily Johnston </td><td>F</td><td>42</td><td> 7</td><td> 9</td><td>10</td><td>10</td><td>9.666667</td><td>ASA    </td></tr>\n",
       "\t<tr><th scope=row>7</th><td>Barbara Scott  </td><td>?</td><td>29</td><td> 5</td><td> 8</td><td> 9</td><td> 7</td><td>8.000000</td><td>student</td></tr>\n",
       "\t<tr><th scope=row>8</th><td>Benjamin Eng   </td><td>M</td><td>36</td><td> 9</td><td> 7</td><td> 8</td><td> 8</td><td>7.666667</td><td>ASA    </td></tr>\n",
       "</tbody>\n",
       "</table>\n"
      ],
      "text/latex": [
       "A data.frame: 6 × 9\n",
       "\\begin{tabular}{r|lllllllll}\n",
       "  & name & gender & age & exams & Q1 & Q2 & Q3 & S & title\\\\\n",
       "  & <chr> & <chr> & <dbl> & <dbl> & <dbl> & <dbl> & <dbl> & <dbl> & <chr>\\\\\n",
       "\\hline\n",
       "\t1 & Embryo Luo      & M & -1 & 10 & 10 &  9 &  9 & 9.333333 & FSA    \\\\\n",
       "\t3 & Peter Smith     & M & 22 &  0 &  4 &  5 &  5 & 4.666667 & student\\\\\n",
       "\t5 & Angela Peterson & F & 30 &  6 &  8 &  8 & 10 & 8.666667 & student\\\\\n",
       "\t6 & Emily Johnston  & F & 42 &  7 &  9 & 10 & 10 & 9.666667 & ASA    \\\\\n",
       "\t7 & Barbara Scott   & ? & 29 &  5 &  8 &  9 &  7 & 8.000000 & student\\\\\n",
       "\t8 & Benjamin Eng    & M & 36 &  9 &  7 &  8 &  8 & 7.666667 & ASA    \\\\\n",
       "\\end{tabular}\n"
      ],
      "text/markdown": [
       "\n",
       "A data.frame: 6 × 9\n",
       "\n",
       "| <!--/--> | name &lt;chr&gt; | gender &lt;chr&gt; | age &lt;dbl&gt; | exams &lt;dbl&gt; | Q1 &lt;dbl&gt; | Q2 &lt;dbl&gt; | Q3 &lt;dbl&gt; | S &lt;dbl&gt; | title &lt;chr&gt; |\n",
       "|---|---|---|---|---|---|---|---|---|---|\n",
       "| 1 | Embryo Luo      | M | -1 | 10 | 10 |  9 |  9 | 9.333333 | FSA     |\n",
       "| 3 | Peter Smith     | M | 22 |  0 |  4 |  5 |  5 | 4.666667 | student |\n",
       "| 5 | Angela Peterson | F | 30 |  6 |  8 |  8 | 10 | 8.666667 | student |\n",
       "| 6 | Emily Johnston  | F | 42 |  7 |  9 | 10 | 10 | 9.666667 | ASA     |\n",
       "| 7 | Barbara Scott   | ? | 29 |  5 |  8 |  9 |  7 | 8.000000 | student |\n",
       "| 8 | Benjamin Eng    | M | 36 |  9 |  7 |  8 |  8 | 7.666667 | ASA     |\n",
       "\n"
      ],
      "text/plain": [
       "  name            gender age exams Q1 Q2 Q3 S        title  \n",
       "1 Embryo Luo      M      -1  10    10  9  9 9.333333 FSA    \n",
       "3 Peter Smith     M      22   0     4  5  5 4.666667 student\n",
       "5 Angela Peterson F      30   6     8  8 10 8.666667 student\n",
       "6 Emily Johnston  F      42   7     9 10 10 9.666667 ASA    \n",
       "7 Barbara Scott   ?      29   5     8  9  7 8.000000 student\n",
       "8 Benjamin Eng    M      36   9     7  8  8 7.666667 ASA    "
      ]
     },
     "metadata": {},
     "output_type": "display_data"
    }
   ],
   "source": [
    "# Organizing & more logical tests\n",
    "actuary.n$title <- ifelse(actuary.n$exams ==10, \"FSA\", \n",
    "                            ifelse(actuary.n$exams >= 7 & actuary.n$exams <= 9, \n",
    "                                    \"ASA\", \"student\"))\n",
    "\n",
    "actuary.n\n",
    "\n"
   ]
  },
  {
   "cell_type": "code",
   "execution_count": 60,
   "metadata": {
    "vscode": {
     "languageId": "r"
    }
   },
   "outputs": [
    {
     "data": {
      "text/html": [
       "<table class=\"dataframe\">\n",
       "<caption>A data.frame: 6 × 11</caption>\n",
       "<thead>\n",
       "\t<tr><th></th><th scope=col>name</th><th scope=col>gender</th><th scope=col>age</th><th scope=col>exams</th><th scope=col>Q1</th><th scope=col>Q2</th><th scope=col>Q3</th><th scope=col>S</th><th scope=col>title</th><th scope=col>smoke</th><th scope=col>weight</th></tr>\n",
       "\t<tr><th></th><th scope=col>&lt;chr&gt;</th><th scope=col>&lt;chr&gt;</th><th scope=col>&lt;dbl&gt;</th><th scope=col>&lt;dbl&gt;</th><th scope=col>&lt;dbl&gt;</th><th scope=col>&lt;dbl&gt;</th><th scope=col>&lt;dbl&gt;</th><th scope=col>&lt;dbl&gt;</th><th scope=col>&lt;chr&gt;</th><th scope=col>&lt;chr&gt;</th><th scope=col>&lt;dbl&gt;</th></tr>\n",
       "</thead>\n",
       "<tbody>\n",
       "\t<tr><th scope=row>1</th><td>Embryo Luo     </td><td>M</td><td>-1</td><td>10</td><td>10</td><td> 9</td><td> 9</td><td>9.333333</td><td>FSA    </td><td>N</td><td>70</td></tr>\n",
       "\t<tr><th scope=row>3</th><td>Peter Smith    </td><td>M</td><td>22</td><td> 0</td><td> 4</td><td> 5</td><td> 5</td><td>4.666667</td><td>student</td><td>Y</td><td>60</td></tr>\n",
       "\t<tr><th scope=row>5</th><td>Angela Peterson</td><td>F</td><td>30</td><td> 6</td><td> 8</td><td> 8</td><td>10</td><td>8.666667</td><td>student</td><td>N</td><td>60</td></tr>\n",
       "\t<tr><th scope=row>6</th><td>Emily Johnston </td><td>F</td><td>42</td><td> 7</td><td> 9</td><td>10</td><td>10</td><td>9.666667</td><td>ASA    </td><td>N</td><td>55</td></tr>\n",
       "\t<tr><th scope=row>7</th><td>Barbara Scott  </td><td>?</td><td>29</td><td> 5</td><td> 8</td><td> 9</td><td> 7</td><td>8.000000</td><td>student</td><td>N</td><td>50</td></tr>\n",
       "\t<tr><th scope=row>8</th><td>Benjamin Eng   </td><td>M</td><td>36</td><td> 9</td><td> 7</td><td> 8</td><td> 8</td><td>7.666667</td><td>ASA    </td><td>Y</td><td>75</td></tr>\n",
       "</tbody>\n",
       "</table>\n"
      ],
      "text/latex": [
       "A data.frame: 6 × 11\n",
       "\\begin{tabular}{r|lllllllllll}\n",
       "  & name & gender & age & exams & Q1 & Q2 & Q3 & S & title & smoke & weight\\\\\n",
       "  & <chr> & <chr> & <dbl> & <dbl> & <dbl> & <dbl> & <dbl> & <dbl> & <chr> & <chr> & <dbl>\\\\\n",
       "\\hline\n",
       "\t1 & Embryo Luo      & M & -1 & 10 & 10 &  9 &  9 & 9.333333 & FSA     & N & 70\\\\\n",
       "\t3 & Peter Smith     & M & 22 &  0 &  4 &  5 &  5 & 4.666667 & student & Y & 60\\\\\n",
       "\t5 & Angela Peterson & F & 30 &  6 &  8 &  8 & 10 & 8.666667 & student & N & 60\\\\\n",
       "\t6 & Emily Johnston  & F & 42 &  7 &  9 & 10 & 10 & 9.666667 & ASA     & N & 55\\\\\n",
       "\t7 & Barbara Scott   & ? & 29 &  5 &  8 &  9 &  7 & 8.000000 & student & N & 50\\\\\n",
       "\t8 & Benjamin Eng    & M & 36 &  9 &  7 &  8 &  8 & 7.666667 & ASA     & Y & 75\\\\\n",
       "\\end{tabular}\n"
      ],
      "text/markdown": [
       "\n",
       "A data.frame: 6 × 11\n",
       "\n",
       "| <!--/--> | name &lt;chr&gt; | gender &lt;chr&gt; | age &lt;dbl&gt; | exams &lt;dbl&gt; | Q1 &lt;dbl&gt; | Q2 &lt;dbl&gt; | Q3 &lt;dbl&gt; | S &lt;dbl&gt; | title &lt;chr&gt; | smoke &lt;chr&gt; | weight &lt;dbl&gt; |\n",
       "|---|---|---|---|---|---|---|---|---|---|---|---|\n",
       "| 1 | Embryo Luo      | M | -1 | 10 | 10 |  9 |  9 | 9.333333 | FSA     | N | 70 |\n",
       "| 3 | Peter Smith     | M | 22 |  0 |  4 |  5 |  5 | 4.666667 | student | Y | 60 |\n",
       "| 5 | Angela Peterson | F | 30 |  6 |  8 |  8 | 10 | 8.666667 | student | N | 60 |\n",
       "| 6 | Emily Johnston  | F | 42 |  7 |  9 | 10 | 10 | 9.666667 | ASA     | N | 55 |\n",
       "| 7 | Barbara Scott   | ? | 29 |  5 |  8 |  9 |  7 | 8.000000 | student | N | 50 |\n",
       "| 8 | Benjamin Eng    | M | 36 |  9 |  7 |  8 |  8 | 7.666667 | ASA     | Y | 75 |\n",
       "\n"
      ],
      "text/plain": [
       "  name            gender age exams Q1 Q2 Q3 S        title   smoke weight\n",
       "1 Embryo Luo      M      -1  10    10  9  9 9.333333 FSA     N     70    \n",
       "3 Peter Smith     M      22   0     4  5  5 4.666667 student Y     60    \n",
       "5 Angela Peterson F      30   6     8  8 10 8.666667 student N     60    \n",
       "6 Emily Johnston  F      42   7     9 10 10 9.666667 ASA     N     55    \n",
       "7 Barbara Scott   ?      29   5     8  9  7 8.000000 student N     50    \n",
       "8 Benjamin Eng    M      36   9     7  8  8 7.666667 ASA     Y     75    "
      ]
     },
     "metadata": {},
     "output_type": "display_data"
    }
   ],
   "source": [
    "# cbind and rbind are used to attach columns or rows to an existing dataframe\n",
    "new <- data.frame(smoke = c(\"N\", \"N\", \"Y\", \"Y\", \"N\", \"N\", \"N\", \"Y\"), \n",
    "                  weight = c(70, 65, 60, 90, 60, 55, 50, 75))\n",
    "\n",
    "actuary.n <- cbind(actuary.n, new[cc, ])\n",
    "actuary.n"
   ]
  },
  {
   "cell_type": "code",
   "execution_count": 66,
   "metadata": {
    "vscode": {
     "languageId": "r"
    }
   },
   "outputs": [
    {
     "data": {
      "text/html": [
       "'Hello There!'"
      ],
      "text/latex": [
       "'Hello There!'"
      ],
      "text/markdown": [
       "'Hello There!'"
      ],
      "text/plain": [
       "[1] \"Hello There!\""
      ]
     },
     "metadata": {},
     "output_type": "display_data"
    },
    {
     "data": {
      "text/html": [
       "<style>\n",
       ".list-inline {list-style: none; margin:0; padding: 0}\n",
       ".list-inline>li {display: inline-block}\n",
       ".list-inline>li:not(:last-child)::after {content: \"\\00b7\"; padding: 0 .5ex}\n",
       "</style>\n",
       "<ol class=list-inline><li>'ax'</li><li>'by'</li><li>'cz'</li></ol>\n"
      ],
      "text/latex": [
       "\\begin{enumerate*}\n",
       "\\item 'ax'\n",
       "\\item 'by'\n",
       "\\item 'cz'\n",
       "\\end{enumerate*}\n"
      ],
      "text/markdown": [
       "1. 'ax'\n",
       "2. 'by'\n",
       "3. 'cz'\n",
       "\n",
       "\n"
      ],
      "text/plain": [
       "[1] \"ax\" \"by\" \"cz\""
      ]
     },
     "metadata": {},
     "output_type": "display_data"
    },
    {
     "data": {
      "text/html": [
       "<style>\n",
       ".list-inline {list-style: none; margin:0; padding: 0}\n",
       ".list-inline>li {display: inline-block}\n",
       ".list-inline>li:not(:last-child)::after {content: \"\\00b7\"; padding: 0 .5ex}\n",
       "</style>\n",
       "<ol class=list-inline><li>'The answer is YES'</li><li>'The answer is NO'</li></ol>\n"
      ],
      "text/latex": [
       "\\begin{enumerate*}\n",
       "\\item 'The answer is YES'\n",
       "\\item 'The answer is NO'\n",
       "\\end{enumerate*}\n"
      ],
      "text/markdown": [
       "1. 'The answer is YES'\n",
       "2. 'The answer is NO'\n",
       "\n",
       "\n"
      ],
      "text/plain": [
       "[1] \"The answer is YES\" \"The answer is NO\" "
      ]
     },
     "metadata": {},
     "output_type": "display_data"
    },
    {
     "data": {
      "text/html": [
       "<style>\n",
       ".list-inline {list-style: none; margin:0; padding: 0}\n",
       ".list-inline>li {display: inline-block}\n",
       ".list-inline>li:not(:last-child)::after {content: \"\\00b7\"; padding: 0 .5ex}\n",
       "</style>\n",
       "<ol class=list-inline><li>'Yr1'</li><li>'Yr2'</li><li>'Yr3'</li><li>'Yr4'</li><li>'Yr5'</li><li>'Yr6'</li><li>'Yr7'</li><li>'Yr8'</li><li>'Yr9'</li><li>'Yr10'</li></ol>\n"
      ],
      "text/latex": [
       "\\begin{enumerate*}\n",
       "\\item 'Yr1'\n",
       "\\item 'Yr2'\n",
       "\\item 'Yr3'\n",
       "\\item 'Yr4'\n",
       "\\item 'Yr5'\n",
       "\\item 'Yr6'\n",
       "\\item 'Yr7'\n",
       "\\item 'Yr8'\n",
       "\\item 'Yr9'\n",
       "\\item 'Yr10'\n",
       "\\end{enumerate*}\n"
      ],
      "text/markdown": [
       "1. 'Yr1'\n",
       "2. 'Yr2'\n",
       "3. 'Yr3'\n",
       "4. 'Yr4'\n",
       "5. 'Yr5'\n",
       "6. 'Yr6'\n",
       "7. 'Yr7'\n",
       "8. 'Yr8'\n",
       "9. 'Yr9'\n",
       "10. 'Yr10'\n",
       "\n",
       "\n"
      ],
      "text/plain": [
       " [1] \"Yr1\"  \"Yr2\"  \"Yr3\"  \"Yr4\"  \"Yr5\"  \"Yr6\"  \"Yr7\"  \"Yr8\"  \"Yr9\"  \"Yr10\""
      ]
     },
     "metadata": {},
     "output_type": "display_data"
    },
    {
     "data": {
      "text/html": [
       "'The answer is...YES OR The answer is...NO'"
      ],
      "text/latex": [
       "'The answer is...YES OR The answer is...NO'"
      ],
      "text/markdown": [
       "'The answer is...YES OR The answer is...NO'"
      ],
      "text/plain": [
       "[1] \"The answer is...YES OR The answer is...NO\""
      ]
     },
     "metadata": {},
     "output_type": "display_data"
    }
   ],
   "source": [
    "# Compound Variables\n",
    "# paste function is very useful\n",
    "\n",
    "paste(\"Hello\", \"There!\")\n",
    "\n",
    "paste(c(\"a\", \"b\", \"c\"), c(\"x\", \"y\", \"z\"), sep = \"\")\n",
    "\n",
    "paste(\"The answer is\", c(\"YES\", \"NO\"))\n",
    "\n",
    "paste0(\"Yr\", 1:10)\n",
    "\n",
    "paste(\"The answer is\", c(\"YES\", \"NO\"), sep = \"...\", collapse = \" OR \")"
   ]
  },
  {
   "cell_type": "code",
   "execution_count": 67,
   "metadata": {
    "vscode": {
     "languageId": "r"
    }
   },
   "outputs": [
    {
     "data": {
      "text/html": [
       "<table class=\"dataframe\">\n",
       "<caption>A data.frame: 6 × 12</caption>\n",
       "<thead>\n",
       "\t<tr><th></th><th scope=col>name</th><th scope=col>gender</th><th scope=col>age</th><th scope=col>exams</th><th scope=col>Q1</th><th scope=col>Q2</th><th scope=col>Q3</th><th scope=col>S</th><th scope=col>title</th><th scope=col>smoke</th><th scope=col>weight</th><th scope=col>genderSmoke</th></tr>\n",
       "\t<tr><th></th><th scope=col>&lt;chr&gt;</th><th scope=col>&lt;chr&gt;</th><th scope=col>&lt;dbl&gt;</th><th scope=col>&lt;dbl&gt;</th><th scope=col>&lt;dbl&gt;</th><th scope=col>&lt;dbl&gt;</th><th scope=col>&lt;dbl&gt;</th><th scope=col>&lt;dbl&gt;</th><th scope=col>&lt;chr&gt;</th><th scope=col>&lt;chr&gt;</th><th scope=col>&lt;dbl&gt;</th><th scope=col>&lt;chr&gt;</th></tr>\n",
       "</thead>\n",
       "<tbody>\n",
       "\t<tr><th scope=row>1</th><td>Embryo Luo     </td><td>M</td><td>-1</td><td>10</td><td>10</td><td> 9</td><td> 9</td><td>9.333333</td><td>FSA    </td><td>N</td><td>70</td><td>MN</td></tr>\n",
       "\t<tr><th scope=row>3</th><td>Peter Smith    </td><td>M</td><td>22</td><td> 0</td><td> 4</td><td> 5</td><td> 5</td><td>4.666667</td><td>student</td><td>Y</td><td>60</td><td>MY</td></tr>\n",
       "\t<tr><th scope=row>5</th><td>Angela Peterson</td><td>F</td><td>30</td><td> 6</td><td> 8</td><td> 8</td><td>10</td><td>8.666667</td><td>student</td><td>N</td><td>60</td><td>FN</td></tr>\n",
       "\t<tr><th scope=row>6</th><td>Emily Johnston </td><td>F</td><td>42</td><td> 7</td><td> 9</td><td>10</td><td>10</td><td>9.666667</td><td>ASA    </td><td>N</td><td>55</td><td>FN</td></tr>\n",
       "\t<tr><th scope=row>7</th><td>Barbara Scott  </td><td>?</td><td>29</td><td> 5</td><td> 8</td><td> 9</td><td> 7</td><td>8.000000</td><td>student</td><td>N</td><td>50</td><td>?N</td></tr>\n",
       "\t<tr><th scope=row>8</th><td>Benjamin Eng   </td><td>M</td><td>36</td><td> 9</td><td> 7</td><td> 8</td><td> 8</td><td>7.666667</td><td>ASA    </td><td>Y</td><td>75</td><td>MY</td></tr>\n",
       "</tbody>\n",
       "</table>\n"
      ],
      "text/latex": [
       "A data.frame: 6 × 12\n",
       "\\begin{tabular}{r|llllllllllll}\n",
       "  & name & gender & age & exams & Q1 & Q2 & Q3 & S & title & smoke & weight & genderSmoke\\\\\n",
       "  & <chr> & <chr> & <dbl> & <dbl> & <dbl> & <dbl> & <dbl> & <dbl> & <chr> & <chr> & <dbl> & <chr>\\\\\n",
       "\\hline\n",
       "\t1 & Embryo Luo      & M & -1 & 10 & 10 &  9 &  9 & 9.333333 & FSA     & N & 70 & MN\\\\\n",
       "\t3 & Peter Smith     & M & 22 &  0 &  4 &  5 &  5 & 4.666667 & student & Y & 60 & MY\\\\\n",
       "\t5 & Angela Peterson & F & 30 &  6 &  8 &  8 & 10 & 8.666667 & student & N & 60 & FN\\\\\n",
       "\t6 & Emily Johnston  & F & 42 &  7 &  9 & 10 & 10 & 9.666667 & ASA     & N & 55 & FN\\\\\n",
       "\t7 & Barbara Scott   & ? & 29 &  5 &  8 &  9 &  7 & 8.000000 & student & N & 50 & ?N\\\\\n",
       "\t8 & Benjamin Eng    & M & 36 &  9 &  7 &  8 &  8 & 7.666667 & ASA     & Y & 75 & MY\\\\\n",
       "\\end{tabular}\n"
      ],
      "text/markdown": [
       "\n",
       "A data.frame: 6 × 12\n",
       "\n",
       "| <!--/--> | name &lt;chr&gt; | gender &lt;chr&gt; | age &lt;dbl&gt; | exams &lt;dbl&gt; | Q1 &lt;dbl&gt; | Q2 &lt;dbl&gt; | Q3 &lt;dbl&gt; | S &lt;dbl&gt; | title &lt;chr&gt; | smoke &lt;chr&gt; | weight &lt;dbl&gt; | genderSmoke &lt;chr&gt; |\n",
       "|---|---|---|---|---|---|---|---|---|---|---|---|---|\n",
       "| 1 | Embryo Luo      | M | -1 | 10 | 10 |  9 |  9 | 9.333333 | FSA     | N | 70 | MN |\n",
       "| 3 | Peter Smith     | M | 22 |  0 |  4 |  5 |  5 | 4.666667 | student | Y | 60 | MY |\n",
       "| 5 | Angela Peterson | F | 30 |  6 |  8 |  8 | 10 | 8.666667 | student | N | 60 | FN |\n",
       "| 6 | Emily Johnston  | F | 42 |  7 |  9 | 10 | 10 | 9.666667 | ASA     | N | 55 | FN |\n",
       "| 7 | Barbara Scott   | ? | 29 |  5 |  8 |  9 |  7 | 8.000000 | student | N | 50 | ?N |\n",
       "| 8 | Benjamin Eng    | M | 36 |  9 |  7 |  8 |  8 | 7.666667 | ASA     | Y | 75 | MY |\n",
       "\n"
      ],
      "text/plain": [
       "  name            gender age exams Q1 Q2 Q3 S        title   smoke weight\n",
       "1 Embryo Luo      M      -1  10    10  9  9 9.333333 FSA     N     70    \n",
       "3 Peter Smith     M      22   0     4  5  5 4.666667 student Y     60    \n",
       "5 Angela Peterson F      30   6     8  8 10 8.666667 student N     60    \n",
       "6 Emily Johnston  F      42   7     9 10 10 9.666667 ASA     N     55    \n",
       "7 Barbara Scott   ?      29   5     8  9  7 8.000000 student N     50    \n",
       "8 Benjamin Eng    M      36   9     7  8  8 7.666667 ASA     Y     75    \n",
       "  genderSmoke\n",
       "1 MN         \n",
       "3 MY         \n",
       "5 FN         \n",
       "6 FN         \n",
       "7 ?N         \n",
       "8 MY         "
      ]
     },
     "metadata": {},
     "output_type": "display_data"
    }
   ],
   "source": [
    "# testing paste with dataset\n",
    "actuary.n$genderSmoke <- paste0(actuary.n$gender, actuary.n$smoke)\n",
    "actuary.n"
   ]
  },
  {
   "cell_type": "code",
   "execution_count": 69,
   "metadata": {
    "vscode": {
     "languageId": "r"
    }
   },
   "outputs": [
    {
     "data": {
      "text/html": [
       "55"
      ],
      "text/latex": [
       "55"
      ],
      "text/markdown": [
       "55"
      ],
      "text/plain": [
       "[1] 55"
      ]
     },
     "metadata": {},
     "output_type": "display_data"
    }
   ],
   "source": [
    "# for loops\n",
    "psum <- function(n) {\n",
    "    s <- 0\n",
    "    for (i in 1:n) {\n",
    "       s <- s + i\n",
    "    }\n",
    "    return(s)\n",
    "}\n",
    "\n",
    "psum(10)\n"
   ]
  }
 ],
 "metadata": {
  "kernelspec": {
   "display_name": "R",
   "language": "R",
   "name": "ir"
  },
  "language_info": {
   "codemirror_mode": "r",
   "file_extension": ".r",
   "mimetype": "text/x-r-source",
   "name": "R",
   "pygments_lexer": "r",
   "version": "4.3.1"
  },
  "orig_nbformat": 4
 },
 "nbformat": 4,
 "nbformat_minor": 2
}
