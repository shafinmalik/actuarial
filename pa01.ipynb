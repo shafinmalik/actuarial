{
 "cells": [
  {
   "cell_type": "code",
   "execution_count": 3,
   "metadata": {
    "vscode": {
     "languageId": "r"
    }
   },
   "outputs": [
    {
     "data": {
      "text/html": [
       "<table class=\"dataframe\">\n",
       "<caption>A data.frame: 5 × 3</caption>\n",
       "<thead>\n",
       "\t<tr><th scope=col>x</th><th scope=col>y</th><th scope=col>z</th></tr>\n",
       "\t<tr><th scope=col>&lt;int&gt;</th><th scope=col>&lt;int&gt;</th><th scope=col>&lt;chr&gt;</th></tr>\n",
       "</thead>\n",
       "<tbody>\n",
       "\t<tr><td> 6</td><td>11</td><td>one  </td></tr>\n",
       "\t<tr><td> 7</td><td>12</td><td>two  </td></tr>\n",
       "\t<tr><td> 8</td><td>13</td><td>three</td></tr>\n",
       "\t<tr><td> 9</td><td>14</td><td>four </td></tr>\n",
       "\t<tr><td>10</td><td>15</td><td>five </td></tr>\n",
       "</tbody>\n",
       "</table>\n"
      ],
      "text/latex": [
       "A data.frame: 5 × 3\n",
       "\\begin{tabular}{lll}\n",
       " x & y & z\\\\\n",
       " <int> & <int> & <chr>\\\\\n",
       "\\hline\n",
       "\t  6 & 11 & one  \\\\\n",
       "\t  7 & 12 & two  \\\\\n",
       "\t  8 & 13 & three\\\\\n",
       "\t  9 & 14 & four \\\\\n",
       "\t 10 & 15 & five \\\\\n",
       "\\end{tabular}\n"
      ],
      "text/markdown": [
       "\n",
       "A data.frame: 5 × 3\n",
       "\n",
       "| x &lt;int&gt; | y &lt;int&gt; | z &lt;chr&gt; |\n",
       "|---|---|---|\n",
       "|  6 | 11 | one   |\n",
       "|  7 | 12 | two   |\n",
       "|  8 | 13 | three |\n",
       "|  9 | 14 | four  |\n",
       "| 10 | 15 | five  |\n",
       "\n"
      ],
      "text/plain": [
       "  x  y  z    \n",
       "1  6 11 one  \n",
       "2  7 12 two  \n",
       "3  8 13 three\n",
       "4  9 14 four \n",
       "5 10 15 five "
      ]
     },
     "metadata": {},
     "output_type": "display_data"
    }
   ],
   "source": [
    "# Dataframes\n",
    "x <- 6:10\n",
    "y <- 11:15\n",
    "z <- c(\"one\", \"two\", \"three\", \"four\", \"five\")\n",
    "df <- data.frame(x, y, z)\n",
    "df "
   ]
  },
  {
   "cell_type": "code",
   "execution_count": 4,
   "metadata": {
    "vscode": {
     "languageId": "r"
    }
   },
   "outputs": [
    {
     "data": {
      "text/html": [
       "<table class=\"dataframe\">\n",
       "<caption>A data.frame: 2 × 3</caption>\n",
       "<thead>\n",
       "\t<tr><th></th><th scope=col>x</th><th scope=col>y</th><th scope=col>z</th></tr>\n",
       "\t<tr><th></th><th scope=col>&lt;int&gt;</th><th scope=col>&lt;int&gt;</th><th scope=col>&lt;chr&gt;</th></tr>\n",
       "</thead>\n",
       "<tbody>\n",
       "\t<tr><th scope=row>1</th><td>6</td><td>11</td><td>one</td></tr>\n",
       "\t<tr><th scope=row>2</th><td>7</td><td>12</td><td>two</td></tr>\n",
       "</tbody>\n",
       "</table>\n"
      ],
      "text/latex": [
       "A data.frame: 2 × 3\n",
       "\\begin{tabular}{r|lll}\n",
       "  & x & y & z\\\\\n",
       "  & <int> & <int> & <chr>\\\\\n",
       "\\hline\n",
       "\t1 & 6 & 11 & one\\\\\n",
       "\t2 & 7 & 12 & two\\\\\n",
       "\\end{tabular}\n"
      ],
      "text/markdown": [
       "\n",
       "A data.frame: 2 × 3\n",
       "\n",
       "| <!--/--> | x &lt;int&gt; | y &lt;int&gt; | z &lt;chr&gt; |\n",
       "|---|---|---|---|\n",
       "| 1 | 6 | 11 | one |\n",
       "| 2 | 7 | 12 | two |\n",
       "\n"
      ],
      "text/plain": [
       "  x y  z  \n",
       "1 6 11 one\n",
       "2 7 12 two"
      ]
     },
     "metadata": {},
     "output_type": "display_data"
    },
    {
     "data": {
      "text/html": [
       "<table class=\"dataframe\">\n",
       "<caption>A data.frame: 2 × 3</caption>\n",
       "<thead>\n",
       "\t<tr><th></th><th scope=col>x</th><th scope=col>y</th><th scope=col>z</th></tr>\n",
       "\t<tr><th></th><th scope=col>&lt;int&gt;</th><th scope=col>&lt;int&gt;</th><th scope=col>&lt;chr&gt;</th></tr>\n",
       "</thead>\n",
       "<tbody>\n",
       "\t<tr><th scope=row>4</th><td> 9</td><td>14</td><td>four</td></tr>\n",
       "\t<tr><th scope=row>5</th><td>10</td><td>15</td><td>five</td></tr>\n",
       "</tbody>\n",
       "</table>\n"
      ],
      "text/latex": [
       "A data.frame: 2 × 3\n",
       "\\begin{tabular}{r|lll}\n",
       "  & x & y & z\\\\\n",
       "  & <int> & <int> & <chr>\\\\\n",
       "\\hline\n",
       "\t4 &  9 & 14 & four\\\\\n",
       "\t5 & 10 & 15 & five\\\\\n",
       "\\end{tabular}\n"
      ],
      "text/markdown": [
       "\n",
       "A data.frame: 2 × 3\n",
       "\n",
       "| <!--/--> | x &lt;int&gt; | y &lt;int&gt; | z &lt;chr&gt; |\n",
       "|---|---|---|---|\n",
       "| 4 |  9 | 14 | four |\n",
       "| 5 | 10 | 15 | five |\n",
       "\n"
      ],
      "text/plain": [
       "  x  y  z   \n",
       "4  9 14 four\n",
       "5 10 15 five"
      ]
     },
     "metadata": {},
     "output_type": "display_data"
    }
   ],
   "source": [
    "# dataframe segments\n",
    "head(df, 2)\n",
    "tail(df, 2)"
   ]
  },
  {
   "cell_type": "code",
   "execution_count": 6,
   "metadata": {
    "vscode": {
     "languageId": "r"
    }
   },
   "outputs": [
    {
     "data": {
      "text/html": [
       "'two'"
      ],
      "text/latex": [
       "'two'"
      ],
      "text/markdown": [
       "'two'"
      ],
      "text/plain": [
       "[1] \"two\""
      ]
     },
     "metadata": {},
     "output_type": "display_data"
    },
    {
     "data": {
      "text/html": [
       "<table class=\"dataframe\">\n",
       "<caption>A data.frame: 3 × 3</caption>\n",
       "<thead>\n",
       "\t<tr><th></th><th scope=col>x</th><th scope=col>y</th><th scope=col>z</th></tr>\n",
       "\t<tr><th></th><th scope=col>&lt;int&gt;</th><th scope=col>&lt;int&gt;</th><th scope=col>&lt;chr&gt;</th></tr>\n",
       "</thead>\n",
       "<tbody>\n",
       "\t<tr><th scope=row>2</th><td>7</td><td>12</td><td>two  </td></tr>\n",
       "\t<tr><th scope=row>3</th><td>8</td><td>13</td><td>three</td></tr>\n",
       "\t<tr><th scope=row>4</th><td>9</td><td>14</td><td>four </td></tr>\n",
       "</tbody>\n",
       "</table>\n"
      ],
      "text/latex": [
       "A data.frame: 3 × 3\n",
       "\\begin{tabular}{r|lll}\n",
       "  & x & y & z\\\\\n",
       "  & <int> & <int> & <chr>\\\\\n",
       "\\hline\n",
       "\t2 & 7 & 12 & two  \\\\\n",
       "\t3 & 8 & 13 & three\\\\\n",
       "\t4 & 9 & 14 & four \\\\\n",
       "\\end{tabular}\n"
      ],
      "text/markdown": [
       "\n",
       "A data.frame: 3 × 3\n",
       "\n",
       "| <!--/--> | x &lt;int&gt; | y &lt;int&gt; | z &lt;chr&gt; |\n",
       "|---|---|---|---|\n",
       "| 2 | 7 | 12 | two   |\n",
       "| 3 | 8 | 13 | three |\n",
       "| 4 | 9 | 14 | four  |\n",
       "\n"
      ],
      "text/plain": [
       "  x y  z    \n",
       "2 7 12 two  \n",
       "3 8 13 three\n",
       "4 9 14 four "
      ]
     },
     "metadata": {},
     "output_type": "display_data"
    },
    {
     "data": {
      "text/html": [
       "<table class=\"dataframe\">\n",
       "<caption>A data.frame: 5 × 2</caption>\n",
       "<thead>\n",
       "\t<tr><th scope=col>x</th><th scope=col>y</th></tr>\n",
       "\t<tr><th scope=col>&lt;int&gt;</th><th scope=col>&lt;int&gt;</th></tr>\n",
       "</thead>\n",
       "<tbody>\n",
       "\t<tr><td> 6</td><td>11</td></tr>\n",
       "\t<tr><td> 7</td><td>12</td></tr>\n",
       "\t<tr><td> 8</td><td>13</td></tr>\n",
       "\t<tr><td> 9</td><td>14</td></tr>\n",
       "\t<tr><td>10</td><td>15</td></tr>\n",
       "</tbody>\n",
       "</table>\n"
      ],
      "text/latex": [
       "A data.frame: 5 × 2\n",
       "\\begin{tabular}{ll}\n",
       " x & y\\\\\n",
       " <int> & <int>\\\\\n",
       "\\hline\n",
       "\t  6 & 11\\\\\n",
       "\t  7 & 12\\\\\n",
       "\t  8 & 13\\\\\n",
       "\t  9 & 14\\\\\n",
       "\t 10 & 15\\\\\n",
       "\\end{tabular}\n"
      ],
      "text/markdown": [
       "\n",
       "A data.frame: 5 × 2\n",
       "\n",
       "| x &lt;int&gt; | y &lt;int&gt; |\n",
       "|---|---|\n",
       "|  6 | 11 |\n",
       "|  7 | 12 |\n",
       "|  8 | 13 |\n",
       "|  9 | 14 |\n",
       "| 10 | 15 |\n",
       "\n"
      ],
      "text/plain": [
       "  x  y \n",
       "1  6 11\n",
       "2  7 12\n",
       "3  8 13\n",
       "4  9 14\n",
       "5 10 15"
      ]
     },
     "metadata": {},
     "output_type": "display_data"
    }
   ],
   "source": [
    "# indexing: goes row by columns\n",
    "df[2, 3]\n",
    "\n",
    "# specified rows (obs)\n",
    "df[2:4,]\n",
    "\n",
    "# true columns\n",
    "df[, c(TRUE, TRUE, FALSE)]"
   ]
  },
  {
   "cell_type": "code",
   "execution_count": 9,
   "metadata": {
    "vscode": {
     "languageId": "r"
    }
   },
   "outputs": [
    {
     "data": {
      "text/html": [
       "<style>\n",
       ".list-inline {list-style: none; margin:0; padding: 0}\n",
       ".list-inline>li {display: inline-block}\n",
       ".list-inline>li:not(:last-child)::after {content: \"\\00b7\"; padding: 0 .5ex}\n",
       "</style>\n",
       "<ol class=list-inline><li>11</li><li>12</li><li>13</li><li>14</li><li>15</li></ol>\n"
      ],
      "text/latex": [
       "\\begin{enumerate*}\n",
       "\\item 11\n",
       "\\item 12\n",
       "\\item 13\n",
       "\\item 14\n",
       "\\item 15\n",
       "\\end{enumerate*}\n"
      ],
      "text/markdown": [
       "1. 11\n",
       "2. 12\n",
       "3. 13\n",
       "4. 14\n",
       "5. 15\n",
       "\n",
       "\n"
      ],
      "text/plain": [
       "[1] 11 12 13 14 15"
      ]
     },
     "metadata": {},
     "output_type": "display_data"
    },
    {
     "data": {
      "text/html": [
       "<table class=\"dataframe\">\n",
       "<caption>A data.frame: 5 × 2</caption>\n",
       "<thead>\n",
       "\t<tr><th scope=col>x</th><th scope=col>z</th></tr>\n",
       "\t<tr><th scope=col>&lt;int&gt;</th><th scope=col>&lt;chr&gt;</th></tr>\n",
       "</thead>\n",
       "<tbody>\n",
       "\t<tr><td> 6</td><td>one  </td></tr>\n",
       "\t<tr><td> 7</td><td>two  </td></tr>\n",
       "\t<tr><td> 8</td><td>three</td></tr>\n",
       "\t<tr><td> 9</td><td>four </td></tr>\n",
       "\t<tr><td>10</td><td>five </td></tr>\n",
       "</tbody>\n",
       "</table>\n"
      ],
      "text/latex": [
       "A data.frame: 5 × 2\n",
       "\\begin{tabular}{ll}\n",
       " x & z\\\\\n",
       " <int> & <chr>\\\\\n",
       "\\hline\n",
       "\t  6 & one  \\\\\n",
       "\t  7 & two  \\\\\n",
       "\t  8 & three\\\\\n",
       "\t  9 & four \\\\\n",
       "\t 10 & five \\\\\n",
       "\\end{tabular}\n"
      ],
      "text/markdown": [
       "\n",
       "A data.frame: 5 × 2\n",
       "\n",
       "| x &lt;int&gt; | z &lt;chr&gt; |\n",
       "|---|---|\n",
       "|  6 | one   |\n",
       "|  7 | two   |\n",
       "|  8 | three |\n",
       "|  9 | four  |\n",
       "| 10 | five  |\n",
       "\n"
      ],
      "text/plain": [
       "  x  z    \n",
       "1  6 one  \n",
       "2  7 two  \n",
       "3  8 three\n",
       "4  9 four \n",
       "5 10 five "
      ]
     },
     "metadata": {},
     "output_type": "display_data"
    },
    {
     "data": {
      "text/html": [
       "13"
      ],
      "text/latex": [
       "13"
      ],
      "text/markdown": [
       "13"
      ],
      "text/plain": [
       "[1] 13"
      ]
     },
     "metadata": {},
     "output_type": "display_data"
    }
   ],
   "source": [
    "# Accessing columns\n",
    "df$y \n",
    "\n",
    "df[, c(\"x\", \"z\")]\n",
    "\n",
    "mean(df$y)\n"
   ]
  },
  {
   "cell_type": "code",
   "execution_count": 15,
   "metadata": {
    "vscode": {
     "languageId": "r"
    }
   },
   "outputs": [
    {
     "data": {
      "text/html": [
       "<dl>\n",
       "\t<dt>$p</dt>\n",
       "\t\t<dd>'This is a list'</dd>\n",
       "\t<dt>$q</dt>\n",
       "\t\t<dd><style>\n",
       ".list-inline {list-style: none; margin:0; padding: 0}\n",
       ".list-inline>li {display: inline-block}\n",
       ".list-inline>li:not(:last-child)::after {content: \"\\00b7\"; padding: 0 .5ex}\n",
       "</style>\n",
       "<ol class=list-inline><li>4</li><li>5</li><li>6</li></ol>\n",
       "</dd>\n",
       "\t<dt>$r</dt>\n",
       "\t\t<dd><table class=\"dataframe\">\n",
       "<caption>A matrix: 3 × 3 of type int</caption>\n",
       "<tbody>\n",
       "\t<tr><td>1</td><td>4</td><td>7</td></tr>\n",
       "\t<tr><td>2</td><td>5</td><td>8</td></tr>\n",
       "\t<tr><td>3</td><td>6</td><td>9</td></tr>\n",
       "</tbody>\n",
       "</table>\n",
       "</dd>\n",
       "\t<dt>$s</dt>\n",
       "\t\t<dd><table class=\"dataframe\">\n",
       "<caption>A data.frame: 3 × 1</caption>\n",
       "<thead>\n",
       "\t<tr><th scope=col>x</th></tr>\n",
       "\t<tr><th scope=col>&lt;dbl&gt;</th></tr>\n",
       "</thead>\n",
       "<tbody>\n",
       "\t<tr><td>1</td></tr>\n",
       "\t<tr><td>4</td></tr>\n",
       "\t<tr><td>9</td></tr>\n",
       "</tbody>\n",
       "</table>\n",
       "</dd>\n",
       "</dl>\n"
      ],
      "text/latex": [
       "\\begin{description}\n",
       "\\item[\\$p] 'This is a list'\n",
       "\\item[\\$q] \\begin{enumerate*}\n",
       "\\item 4\n",
       "\\item 5\n",
       "\\item 6\n",
       "\\end{enumerate*}\n",
       "\n",
       "\\item[\\$r] A matrix: 3 × 3 of type int\n",
       "\\begin{tabular}{lll}\n",
       "\t 1 & 4 & 7\\\\\n",
       "\t 2 & 5 & 8\\\\\n",
       "\t 3 & 6 & 9\\\\\n",
       "\\end{tabular}\n",
       "\n",
       "\\item[\\$s] A data.frame: 3 × 1\n",
       "\\begin{tabular}{l}\n",
       " x\\\\\n",
       " <dbl>\\\\\n",
       "\\hline\n",
       "\t 1\\\\\n",
       "\t 4\\\\\n",
       "\t 9\\\\\n",
       "\\end{tabular}\n",
       "\n",
       "\\end{description}\n"
      ],
      "text/markdown": [
       "$p\n",
       ":   'This is a list'\n",
       "$q\n",
       ":   1. 4\n",
       "2. 5\n",
       "3. 6\n",
       "\n",
       "\n",
       "\n",
       "$r\n",
       ":   \n",
       "A matrix: 3 × 3 of type int\n",
       "\n",
       "| 1 | 4 | 7 |\n",
       "| 2 | 5 | 8 |\n",
       "| 3 | 6 | 9 |\n",
       "\n",
       "\n",
       "$s\n",
       ":   \n",
       "A data.frame: 3 × 1\n",
       "\n",
       "| x &lt;dbl&gt; |\n",
       "|---|\n",
       "| 1 |\n",
       "| 4 |\n",
       "| 9 |\n",
       "\n",
       "\n",
       "\n",
       "\n"
      ],
      "text/plain": [
       "$p\n",
       "[1] \"This is a list\"\n",
       "\n",
       "$q\n",
       "[1] 4 5 6\n",
       "\n",
       "$r\n",
       "     [,1] [,2] [,3]\n",
       "[1,]    1    4    7\n",
       "[2,]    2    5    8\n",
       "[3,]    3    6    9\n",
       "\n",
       "$s\n",
       "  x\n",
       "1 1\n",
       "2 4\n",
       "3 9\n"
      ]
     },
     "metadata": {},
     "output_type": "display_data"
    },
    {
     "data": {
      "text/html": [
       "'This is a list'"
      ],
      "text/latex": [
       "'This is a list'"
      ],
      "text/markdown": [
       "'This is a list'"
      ],
      "text/plain": [
       "[1] \"This is a list\""
      ]
     },
     "metadata": {},
     "output_type": "display_data"
    },
    {
     "data": {
      "text/html": [
       "<table class=\"dataframe\">\n",
       "<caption>A matrix: 3 × 3 of type int</caption>\n",
       "<tbody>\n",
       "\t<tr><td>1</td><td>4</td><td>7</td></tr>\n",
       "\t<tr><td>2</td><td>5</td><td>8</td></tr>\n",
       "\t<tr><td>3</td><td>6</td><td>9</td></tr>\n",
       "</tbody>\n",
       "</table>\n"
      ],
      "text/latex": [
       "A matrix: 3 × 3 of type int\n",
       "\\begin{tabular}{lll}\n",
       "\t 1 & 4 & 7\\\\\n",
       "\t 2 & 5 & 8\\\\\n",
       "\t 3 & 6 & 9\\\\\n",
       "\\end{tabular}\n"
      ],
      "text/markdown": [
       "\n",
       "A matrix: 3 × 3 of type int\n",
       "\n",
       "| 1 | 4 | 7 |\n",
       "| 2 | 5 | 8 |\n",
       "| 3 | 6 | 9 |\n",
       "\n"
      ],
      "text/plain": [
       "     [,1] [,2] [,3]\n",
       "[1,] 1    4    7   \n",
       "[2,] 2    5    8   \n",
       "[3,] 3    6    9   "
      ]
     },
     "metadata": {},
     "output_type": "display_data"
    }
   ],
   "source": [
    "# lists\n",
    "l <- list(\n",
    "    p = \"This is a list\",\n",
    "    q = 4:6,\n",
    "    r = matrix(1:9, nrow = 3),\n",
    "    s = data.frame(x = c(1, 4, 9))\n",
    ")\n",
    "\n",
    "l\n",
    "\n",
    "l[[1]]\n",
    "l[[\"r\"]]"
   ]
  }
 ],
 "metadata": {
  "kernelspec": {
   "display_name": "R",
   "language": "R",
   "name": "ir"
  },
  "language_info": {
   "codemirror_mode": "r",
   "file_extension": ".r",
   "mimetype": "text/x-r-source",
   "name": "R",
   "pygments_lexer": "r",
   "version": "4.3.1"
  },
  "orig_nbformat": 4
 },
 "nbformat": 4,
 "nbformat_minor": 2
}
